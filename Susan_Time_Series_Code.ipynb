{
 "cells": [
  {
   "cell_type": "code",
   "execution_count": null,
   "metadata": {},
   "outputs": [],
   "source": [
    "%matplotlib inline\n",
    "from IPython.display import Image\n",
    "import ee, datetime\n",
    "import pandas as pd\n",
    "from pylab import *\n",
    "from matplotlib.pylab import rcParams\n",
    "\n",
    "\n",
    "# Define point \n",
    "#point = ee.Geometry.Point(-71.8059, 19.009215)\n",
    "\n",
    "# Get info from the point\n",
    "\n",
    "info = collection.getRegion(zoomed_in,10).getInfo() # change colelction by series\n",
    "print(info)\n",
    "\n",
    "# Reshape image collection \n",
    "# Spearate header from data, and store data in an array\n",
    "header = info[0]\n",
    "data = array(info[1:])  #taking from first row to the end\n",
    "\n",
    "# Extract time from data\n",
    "\n",
    "iTime = header.index('time')\n",
    "#creating a list of time points from 0 to final time and storing in variable time\n",
    "time = [datetime.datetime.fromtimestamp(i/1000) for i in (data[0:,iTime].astype(int))]\n",
    "\n",
    "# List of used image bands \n",
    "# band in this is EVI= Enhanced vegetation index\n",
    "band_list = ['Percent_Tree_Cover', 'Percent_NonTree_Vegetation']\n",
    "#take the index of b for eact b in band_list\n",
    "iBands = [header.index(b) for b in band_list]\n",
    "\n",
    "#gonna take all the data for the selected band\n",
    "yData = data[0:,iBands].astype(np.float)\n",
    "#print(yData)\n",
    "\n",
    "#create a variable for evi from data extracted from image and apply a factor \n",
    "ptc = yData[:,0]*0.0001 # USGS specifications: scale factor\n",
    "print(ptc)\n",
    "\n",
    "# Reshape EVI array into Pandas Dataframe\n",
    "df = pd.DataFrame(data=evi, columns=['Percent_Tree_Cover'])\n",
    "#print(df)\n",
    "\n",
    "df['Date'] = pd.Series(time, index=df.index)\n",
    "#print(df)"
   ]
  }
 ],
 "metadata": {
  "kernelspec": {
   "display_name": "Python 3",
   "language": "python",
   "name": "python3"
  },
  "language_info": {
   "codemirror_mode": {
    "name": "ipython",
    "version": 3
   },
   "file_extension": ".py",
   "mimetype": "text/x-python",
   "name": "python",
   "nbconvert_exporter": "python",
   "pygments_lexer": "ipython3",
   "version": "3.8.6"
  }
 },
 "nbformat": 4,
 "nbformat_minor": 4
}
