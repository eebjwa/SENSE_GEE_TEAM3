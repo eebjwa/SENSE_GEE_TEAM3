{
 "cells": [
  {
   "cell_type": "code",
   "execution_count": 1,
   "metadata": {},
   "outputs": [],
   "source": [
    "import ee"
   ]
  },
  {
   "cell_type": "code",
   "execution_count": 2,
   "metadata": {},
   "outputs": [],
   "source": [
    "try:\n",
    "    ee.Initialize()\n",
    "except Exception as e:\n",
    "    ee.Authenticate()\n",
    "    ee.Initialize()"
   ]
  },
  {
   "cell_type": "code",
   "execution_count": 78,
   "metadata": {},
   "outputs": [],
   "source": [
    "import geemap as emap\n",
    "\n",
    "Map = emap.Map(center=[4,-76.5], zoom=13)"
   ]
  },
  {
   "cell_type": "code",
   "execution_count": 79,
   "metadata": {},
   "outputs": [],
   "source": [
    "s2Sr = ee.ImageCollection('COPERNICUS/S2_SR')\n",
    "s2Clouds = ee.ImageCollection('COPERNICUS/S2_CLOUD_PROBABILITY')\n",
    "\n",
    "START_DATE = ee.Date('2020-01-01')\n",
    "END_DATE = ee.Date('2020-03-01')\n",
    "MAX_CLOUD_PROBABILITY = 65\n",
    "region = ee.Geometry.Rectangle(**{'coords': [-76.5, 2.0, -74, 4.0]})"
   ]
  },
  {
   "cell_type": "code",
   "execution_count": 80,
   "metadata": {},
   "outputs": [],
   "source": [
    "def maskClouds(img):\n",
    "      clouds = ee.Image(img.get('cloud_mask')).select('probability')\n",
    "      isNotCloud = clouds.lt(MAX_CLOUD_PROBABILITY)\n",
    "      return img.updateMask(isNotCloud)\n",
    "\n",
    "# The masks for the 10m bands sometimes do not exclude bad data at\n",
    "# scene edges, so we apply masks from the 20m and 60m bands as well.\n",
    "/# Example asset that needs this operation:\n",
    "# COPERNICUS/S2_CLOUD_PROBABILITY/20190301T000239_20190301T000238_T55GDP\n",
    "def maskEdges(s2_img):\n",
    "      return s2_img.updateMask(s2_img.select('B8A').mask().updateMask(s2_img.select('B9').mask()))"
   ]
  },
  {
   "cell_type": "code",
   "execution_count": 81,
   "metadata": {},
   "outputs": [],
   "source": [
    "# Filter input collections by desired data range and region.\n",
    "s2Sr = s2Sr.filterBounds(region).filterDate(START_DATE, END_DATE).map(maskEdges)\n",
    "s2Clouds = s2Clouds.filterBounds(region).filterDate(START_DATE, END_DATE)"
   ]
  },
  {
   "cell_type": "code",
   "execution_count": 82,
   "metadata": {},
   "outputs": [],
   "source": [
    "# Join S2 SR with cloud probability dataset to add cloud mask.\n",
    "s2SrWithCloudMask = ee.Join.saveFirst('cloud_mask').apply(**{\n",
    "  'primary': s2Sr,\n",
    "  'secondary': s2Clouds,\n",
    "  'condition':\n",
    "      ee.Filter.equals(**{'leftField': 'system:index', 'rightField': 'system:index'})\n",
    "})\n",
    "\n",
    "s2CloudMasked = ee.ImageCollection(s2SrWithCloudMask).map(maskClouds).median()\n",
    "rgbVis = {'min': 0, 'max': 3000, 'bands': ['B4', 'B3', 'B2']}\n",
    "\n",
    "Map.addLayer(s2CloudMasked, rgbVis, 'S2 SR masked at ' + str(MAX_CLOUD_PROBABILITY) + '%', True)"
   ]
  },
  {
   "cell_type": "code",
   "execution_count": 83,
   "metadata": {},
   "outputs": [
    {
     "data": {
      "application/vnd.jupyter.widget-view+json": {
       "model_id": "6ec8680ea5c246d9963bc231894b7dbb",
       "version_major": 2,
       "version_minor": 0
      },
      "text/plain": [
       "Map(center=[4, -76.5], controls=(WidgetControl(options=['position'], widget=HBox(children=(ToggleButton(value=…"
      ]
     },
     "metadata": {},
     "output_type": "display_data"
    }
   ],
   "source": [
    "Map"
   ]
  },
  {
   "cell_type": "code",
   "execution_count": null,
   "metadata": {},
   "outputs": [],
   "source": []
  }
 ],
 "metadata": {
  "kernelspec": {
   "display_name": "Python 3",
   "language": "python",
   "name": "python3"
  },
  "language_info": {
   "codemirror_mode": {
    "name": "ipython",
    "version": 3
   },
   "file_extension": ".py",
   "mimetype": "text/x-python",
   "name": "python",
   "nbconvert_exporter": "python",
   "pygments_lexer": "ipython3",
   "version": "3.6.8"
  }
 },
 "nbformat": 4,
 "nbformat_minor": 4
}
