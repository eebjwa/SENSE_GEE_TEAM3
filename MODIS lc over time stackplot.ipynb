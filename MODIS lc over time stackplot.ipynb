{
 "cells": [
  {
   "cell_type": "code",
   "execution_count": 127,
   "metadata": {},
   "outputs": [],
   "source": [
    "import ee \n",
    "import geemap\n",
    "import matplotlib.pyplot as plt\n",
    "import numpy as np"
   ]
  },
  {
   "cell_type": "code",
   "execution_count": 32,
   "metadata": {},
   "outputs": [],
   "source": [
    "# Create a map centred at (lat, lon).\n",
    "Map = geemap.Map(center=[40, -100], zoom=4)"
   ]
  },
  {
   "cell_type": "code",
   "execution_count": 33,
   "metadata": {},
   "outputs": [
    {
     "data": {
      "application/vnd.jupyter.widget-view+json": {
       "model_id": "aa62c3ce645e4be1b37f64e1680c7b8e",
       "version_major": 2,
       "version_minor": 0
      },
      "text/plain": [
       "Map(center=[40, -100], controls=(WidgetControl(options=['position'], widget=HBox(children=(ToggleButton(value=…"
      ]
     },
     "metadata": {},
     "output_type": "display_data"
    }
   ],
   "source": [
    "# Display the map.\n",
    "Map"
   ]
  },
  {
   "cell_type": "code",
   "execution_count": 34,
   "metadata": {},
   "outputs": [],
   "source": [
    "#define the regions we're interested in, and also access landcover information derived from MODIS\n",
    "\n",
    "haiti_region = ee.FeatureCollection('USDOS/LSIB_SIMPLE/2017') \\\n",
    "  .filter(ee.Filter.eq('country_na', 'Haiti'))\n",
    "\n",
    "dr_region = ee.FeatureCollection('USDOS/LSIB_SIMPLE/2017') \\\n",
    "  .filter(ee.Filter.eq('country_na', 'Dominican Republic'))\n",
    "\n",
    "# Load MODIS land cover categories in 2001.\n",
    "landcover = ee.ImageCollection('MODIS/006/MCD12Q1') \\\n",
    "  .select('LC_Type1')"
   ]
  },
  {
   "cell_type": "code",
   "execution_count": 35,
   "metadata": {},
   "outputs": [],
   "source": [
    "#define a colour palette to view landcover data. View all on the map above\n",
    "\n",
    "igbpLandCoverVis = {\n",
    "  'min': 1.0,\n",
    "  'max': 17.0,\n",
    "  'palette': [\n",
    "    '05450a', '086a10', '54a708', '78d203', '009900', 'c6b044', 'dcd159',\n",
    "    'dade48', 'fbff13', 'b6ff05', '27ff87', 'c24f44', 'a5a5a5', 'ff6d4c',\n",
    "    '69fff8', 'f9ffa4', '1c0dff'\n",
    "  ]\n",
    "}\n",
    "    \n",
    "Map.addLayer(landcover, igbpLandCoverVis, 'landcover')\n",
    "Map.addLayer(haiti_region, {'color':'red'}, 'haiti_region')\n",
    "Map.addLayer(dr_region, {'color':'blue'}, 'dr_region')"
   ]
  },
  {
   "cell_type": "code",
   "execution_count": 184,
   "metadata": {
    "scrolled": true
   },
   "outputs": [
    {
     "name": "stdout",
     "output_type": "stream",
     "text": [
      "2001_01_01\n",
      "2002_01_01\n",
      "2003_01_01\n",
      "2004_01_01\n",
      "2005_01_01\n",
      "2006_01_01\n",
      "2007_01_01\n",
      "2008_01_01\n",
      "2009_01_01\n",
      "2010_01_01\n",
      "2011_01_01\n",
      "2012_01_01\n",
      "2013_01_01\n",
      "2014_01_01\n",
      "2015_01_01\n",
      "2016_01_01\n",
      "2017_01_01\n",
      "2018_01_01\n",
      "2019_01_01\n"
     ]
    }
   ],
   "source": [
    "class_images = landcover.select('LC_Type1') #select the landcover band where an integer represents the class\n",
    " #(see https://developers.google.com/earth-engine/datasets/catalog/MODIS_006_MCD12Q1#description)\n",
    "\n",
    "#empty list to store data\n",
    "data = []\n",
    "\n",
    "#go through 19 years of data\n",
    "N = 19\n",
    "for i in range(N):\n",
    "    #access a particular year in the collection of images\n",
    "    class_image = ee.Image(class_images.toList(class_images.size()).get(i))\n",
    "    \n",
    "    #empty array to store data\n",
    "    year_data = np.zeros(18)\n",
    "\n",
    "    #print year of image\n",
    "    print(class_image.get('system:index').getInfo())\n",
    "    \n",
    "    #get area of pixels as a band, perform a reduction so we get the number of pixels for each class for the \n",
    "    #particular year\n",
    "    image = ee.Image.pixelArea().addBands(class_image)\n",
    "    sums = image.reduceRegion(**{\n",
    "          'reducer': ee.Reducer.sum().group(**{\n",
    "            'groupField': 1,\n",
    "            'groupName': 'code',\n",
    "          }),\n",
    "          'geometry': haiti_region.geometry(),\n",
    "          'scale': 500,\n",
    "          'maxPixels': 1e8\n",
    "        })\n",
    "  \n",
    "    #messy way of sorting the dictionary into a nicer structure\n",
    "    class_year_data = sums.getInfo().get('groups')\n",
    "    for class_type in class_year_data:\n",
    "        year_data[class_type['code']] = class_type['sum']\n",
    "                  \n",
    "    data.append(year_data)"
   ]
  },
  {
   "cell_type": "code",
   "execution_count": 185,
   "metadata": {},
   "outputs": [
    {
     "data": {
      "text/plain": [
       "[<matplotlib.collections.PolyCollection at 0x7f5ec38a6828>,\n",
       " <matplotlib.collections.PolyCollection at 0x7f5ec3838f28>,\n",
       " <matplotlib.collections.PolyCollection at 0x7f5ec3853ef0>,\n",
       " <matplotlib.collections.PolyCollection at 0x7f5ec3853f28>,\n",
       " <matplotlib.collections.PolyCollection at 0x7f5ec38634e0>,\n",
       " <matplotlib.collections.PolyCollection at 0x7f5ec38637b8>,\n",
       " <matplotlib.collections.PolyCollection at 0x7f5ec3863a90>,\n",
       " <matplotlib.collections.PolyCollection at 0x7f5ec3863d68>,\n",
       " <matplotlib.collections.PolyCollection at 0x7f5ec3863da0>,\n",
       " <matplotlib.collections.PolyCollection at 0x7f5ec37f1358>,\n",
       " <matplotlib.collections.PolyCollection at 0x7f5ec38a64e0>,\n",
       " <matplotlib.collections.PolyCollection at 0x7f5ec37f18d0>,\n",
       " <matplotlib.collections.PolyCollection at 0x7f5ec37f1ba8>,\n",
       " <matplotlib.collections.PolyCollection at 0x7f5ec37f1e80>,\n",
       " <matplotlib.collections.PolyCollection at 0x7f5ec37f1eb8>,\n",
       " <matplotlib.collections.PolyCollection at 0x7f5ec37fe470>,\n",
       " <matplotlib.collections.PolyCollection at 0x7f5ec37fe748>,\n",
       " <matplotlib.collections.PolyCollection at 0x7f5ec37fea20>]"
      ]
     },
     "execution_count": 185,
     "metadata": {},
     "output_type": "execute_result"
    },
    {
     "data": {
      "image/png": "[encoded data removed]",
      "text/plain": [
       "<Figure size 864x720 with 1 Axes>"
      ]
     },
     "metadata": {
      "needs_background": "light"
     },
     "output_type": "display_data"
    }
   ],
   "source": [
    "#make a stack plot to show lc over time\n",
    "\n",
    "plt.figure(figsize=(12,10))\n",
    "plt.title('landcover over time for Haiti')\n",
    "plt.stackplot(list(range(2001,2001+N)),np.vstack(np.array(data).T))"
   ]
  },
  {
   "cell_type": "code",
   "execution_count": null,
   "metadata": {},
   "outputs": [],
   "source": []
  }
 ],
 "metadata": {
  "kernelspec": {
   "display_name": "Python 3",
   "language": "python",
   "name": "python3"
  },
  "language_info": {
   "codemirror_mode": {
    "name": "ipython",
    "version": 3
   },
   "file_extension": ".py",
   "mimetype": "text/x-python",
   "name": "python",
   "nbconvert_exporter": "python",
   "pygments_lexer": "ipython3",
   "version": "3.6.8"
  }
 },
 "nbformat": 4,
 "nbformat_minor": 4
}
