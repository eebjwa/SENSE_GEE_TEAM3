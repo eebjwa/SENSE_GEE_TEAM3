{
  "nbformat": 4,
  "nbformat_minor": 0,
  "metadata": {
    "colab": {
      "name": "max_stats.ipynb",
      "provenance": [],
      "collapsed_sections": [],
      "include_colab_link": true
    },
    "kernelspec": {
      "name": "python3",
      "display_name": "Python 3"
    }
  },
  "cells": [
    {
      "cell_type": "markdown",
      "metadata": {
        "id": "view-in-github",
        "colab_type": "text"
      },
      "source": [
        "<a href=\"https://colab.research.google.com/github/eebjwa/SENSE_GEE_TEAM3/blob/main/max_stats.ipynb\" target=\"_parent\"><img src=\"https://colab.research.google.com/assets/colab-badge.svg\" alt=\"Open In Colab\"/></a>"
      ]
    },
    {
      "cell_type": "code",
      "metadata": {
        "id": "8JrjGmfxoldU",
        "outputId": "6aaf5ee3-8c24-41d6-a379-bcf480fce5df",
        "colab": {
          "base_uri": "https://localhost:8080/",
          "height": 173
        }
      },
      "source": [
        "import ee\n",
        "# Trigger authentication\n",
        "ee.Authenticate()\n",
        "# Initialise library\n",
        "ee.Initialize()\n"
      ],
      "execution_count": null,
      "outputs": [
        {
          "output_type": "stream",
          "text": [
            "To authorize access needed by Earth Engine, open the following URL in a web browser and follow the instructions. If the web browser does not start automatically, please manually browse the URL below.\n",
            "\n",
            "    https://accounts.google.com/o/oauth2/auth?client_id=517222506229-vsmmajv00ul0bs7p89v5m89qs8eb9359.apps.googleusercontent.com&scope=https%3A%2F%2Fwww.googleapis.com%2Fauth%2Fearthengine+https%3A%2F%2Fwww.googleapis.com%2Fauth%2Fdevstorage.full_control&redirect_uri=urn%3Aietf%3Awg%3Aoauth%3A2.0%3Aoob&response_type=code&code_challenge=Hjqt318PxpBLv9RxnYYMLyuR7Cda3bQPo11Igm0HYuk&code_challenge_method=S256\n",
            "\n",
            "The authorization workflow will generate a code, which you should paste in the box below. \n",
            "Enter verification code: 4/5gEn5yUnIkb_uf9h9u2RDmGRFgV9EjOOr1VgLJ_5nHDZtp_v8StaL9M\n",
            "\n",
            "Successfully saved authorization token.\n"
          ],
          "name": "stdout"
        }
      ]
    },
    {
      "cell_type": "code",
      "metadata": {
        "id": "a7kEABJSIWX5"
      },
      "source": [
        "# Create a variable containing the polygon for the region of interest\n",
        "roi = ee.Geometry.Polygon(\n",
        "        [[[-74.60668900677238, 20.088333497505946],\n",
        "          [-74.60668900677238, 17.687361057873034],\n",
        "          [-68.11376908489738, 17.687361057873034],\n",
        "          [-68.11376908489738, 20.088333497505946]]])\n"
      ],
      "execution_count": null,
      "outputs": []
    },
    {
      "cell_type": "code",
      "metadata": {
        "id": "1aGsRGCqpl_v"
      },
      "source": [
        "# Find imagery from MODIS for Hispaniola study area, define timespan of data \n",
        "# Data addresss: https://developers.google.com/earth-engine/datasets/catalog/MODIS_006_MOD13Q1#description\n",
        "\n",
        "modisNDVI = ee.ImageCollection('MODIS/006/MOD13Q1').select('NDVI')\n",
        "\n",
        "modisEVI = ee.ImageCollection('MODIS/006/MOD13Q1').select('EVI')\n",
        "\n",
        "# Ignore the section below\n",
        "#modisGlobal = ee.ImageCollection('MODIS/006/MOD13Q1').filterBounds(ee.Geometry.Polygon((\n",
        "#        [[[-74.60668900677238, 20.088333497505946],\n",
        "#          [-74.60668900677238, 17.687361057873034],\n",
        "#          [-68.11376908489738, 17.687361057873034],\n",
        "#          [-68.11376908489738, 20.088333497505946]]])\n",
        "#)).filterDate('2019-01-01', '2019-12-31').sort('MODLAND QA Bits').first()"
      ],
      "execution_count": null,
      "outputs": []
    },
    {
      "cell_type": "code",
      "metadata": {
        "id": "Cd8DYAlbP78X"
      },
      "source": [
        "# Filter the data - do we want to filter to only the summer months?"
      ],
      "execution_count": null,
      "outputs": []
    },
    {
      "cell_type": "code",
      "metadata": {
        "id": "tJFj6T-RQhr_"
      },
      "source": [
        "# Calculate annual averages for both NDVI and EVI for the ROI\n",
        "def annualAverage(year, imageCollection):\n",
        "    annualImagery = imageCollection.filterDate(str(year) + '-01-01', str(year) + '-12-31')\n",
        "    return annualImagery.mean()  \n"
      ],
      "execution_count": null,
      "outputs": []
    },
    {
      "cell_type": "code",
      "metadata": {
        "id": "VofoHir6SwX2"
      },
      "source": [
        "averageNDVI00 = annualAverage(2000, modisNDVI)\n",
        "averageNDVI01 = annualAverage(2001, modisNDVI)\n",
        "averageNDVI02 = annualAverage(2002, modisNDVI)\n",
        "averageNDVI03 = annualAverage(2003, modisNDVI)\n",
        "averageNDVI04 = annualAverage(2004, modisNDVI)\n",
        "averageNDVI05 = annualAverage(2005, modisNDVI)\n",
        "averageNDVI06 = annualAverage(2006, modisNDVI)\n",
        "averageNDVI07 = annualAverage(2007, modisNDVI)\n",
        "averageNDVI08 = annualAverage(2008, modisNDVI)\n",
        "averageNDVI09 = annualAverage(2009, modisNDVI)\n",
        "averageNDVI10 = annualAverage(2010, modisNDVI)\n",
        "averageNDVI11 = annualAverage(2011, modisNDVI)\n",
        "averageNDVI12 = annualAverage(2012, modisNDVI)\n",
        "averageNDVI13 = annualAverage(2013, modisNDVI)\n",
        "averageNDVI14 = annualAverage(2014, modisNDVI)\n",
        "averageNDVI15 = annualAverage(2015, modisNDVI)\n",
        "averageNDVI16 = annualAverage(2016, modisNDVI)\n",
        "averageNDVI17 = annualAverage(2017, modisNDVI)\n",
        "averageNDVI18 = annualAverage(2018, modisNDVI)\n",
        "averageNDVI19 = annualAverage(2019, modisNDVI)\n",
        "averageNDVI20 = annualAverage(2020, modisNDVI)"
      ],
      "execution_count": null,
      "outputs": []
    },
    {
      "cell_type": "code",
      "metadata": {
        "id": "_ccLDyojgqOq"
      },
      "source": [
        "## Clip to Dominican Republic and Haiti\n",
        "\n",
        "# Data source for country polygons: https://developers.google.com/earth-engine/datasets/catalog/USDOS_LSIB_SIMPLE_2017\n",
        "countries = ee.FeatureCollection('USDOS/LSIB_SIMPLE/2017')\n",
        "\n",
        "# Filter the featurecollection to give just a Haiti polygon\n",
        "haiti = countries.filter(ee.Filter.eq('country_na', 'Haiti'))\n",
        "# Filter the featurecollection to give just a Dominican Republic polygon\n",
        "domRep = countries.filter(ee.Filter.eq('country_na', 'Dominican Republic'))"
      ],
      "execution_count": null,
      "outputs": []
    },
    {
      "cell_type": "code",
      "metadata": {
        "id": "N9LQ0q_7iqSi"
      },
      "source": [
        "## Clip imagery to Haiti and domRep\n",
        "hAverNDVI00 = averageNDVI12.clip(haiti)\n",
        "hAverNDVI01 = averageNDVI01.clip(haiti)\n",
        "hAverNDVI02 = averageNDVI02.clip(haiti)\n",
        "hAverNDVI03 = averageNDVI03.clip(haiti)\n",
        "hAverNDVI04 = averageNDVI04.clip(haiti)\n",
        "hAverNDVI05 = averageNDVI05.clip(haiti)\n",
        "hAverNDVI06 = averageNDVI06.clip(haiti)\n",
        "hAverNDVI07 = averageNDVI07.clip(haiti)\n",
        "hAverNDVI08 = averageNDVI08.clip(haiti)\n",
        "hAverNDVI09 = averageNDVI09.clip(haiti)\n",
        "hAverNDVI10 = averageNDVI10.clip(haiti)\n",
        "hAverNDVI11 = averageNDVI11.clip(haiti)\n",
        "hAverNDVI12 = averageNDVI12.clip(haiti)\n",
        "hAverNDVI13 = averageNDVI13.clip(haiti)\n",
        "hAverNDVI14 = averageNDVI14.clip(haiti)\n",
        "hAverNDVI15 = averageNDVI15.clip(haiti)\n",
        "hAverNDVI16 = averageNDVI16.clip(haiti)\n",
        "hAverNDVI17 = averageNDVI17.clip(haiti)\n",
        "hAverNDVI18 = averageNDVI18.clip(haiti)\n",
        "hAverNDVI19 = averageNDVI19.clip(haiti)\n",
        "hAverNDVI20 = averageNDVI20.clip(haiti)\n",
        "\n",
        "dAverNDVI00 = averageNDVI00.clip(domRep)\n",
        "dAverNDVI01 = averageNDVI01.clip(domRep)\n",
        "dAverNDVI02 = averageNDVI02.clip(domRep)\n",
        "dAverNDVI03 = averageNDVI03.clip(domRep)\n",
        "dAverNDVI04 = averageNDVI04.clip(domRep)\n",
        "dAverNDVI05 = averageNDVI05.clip(domRep)\n",
        "dAverNDVI06 = averageNDVI06.clip(domRep)\n",
        "dAverNDVI07 = averageNDVI07.clip(domRep)\n",
        "dAverNDVI08 = averageNDVI08.clip(domRep)\n",
        "dAverNDVI09 = averageNDVI09.clip(domRep)\n",
        "dAverNDVI10 = averageNDVI10.clip(domRep)\n",
        "dAverNDVI11 = averageNDVI11.clip(domRep)\n",
        "dAverNDVI12 = averageNDVI12.clip(domRep)\n",
        "dAverNDVI13 = averageNDVI13.clip(domRep)\n",
        "dAverNDVI14 = averageNDVI14.clip(domRep)\n",
        "dAverNDVI15 = averageNDVI15.clip(domRep)\n",
        "dAverNDVI16 = averageNDVI16.clip(domRep)\n",
        "dAverNDVI17 = averageNDVI17.clip(domRep)\n",
        "dAverNDVI18 = averageNDVI18.clip(domRep)\n",
        "dAverNDVI19 = averageNDVI19.clip(domRep)\n",
        "dAverNDVI20 = averageNDVI20.clip(domRep)"
      ],
      "execution_count": null,
      "outputs": []
    },
    {
      "cell_type": "code",
      "metadata": {
        "id": "m_yOTBVbVrK6",
        "outputId": "aeba47fa-7146-4a19-ff55-c5377e2505d5",
        "colab": {
          "base_uri": "https://localhost:8080/",
          "height": 374
        }
      },
      "source": [
        "\n",
        "mean_ha_00 = hAverNDVI00.reduceRegion(**{'reducer': ee.Reducer.mean(),'geometry': haiti.geometry(),'scale': 500,'maxPixels': 1e9})\n",
        "print('haiti_00',mean_ha_00.getInfo())\n",
        "mean_ha_01 = hAverNDVI01.reduceRegion(**{'reducer': ee.Reducer.mean(),'geometry': haiti.geometry(),'scale': 500,'maxPixels': 1e9})\n",
        "print('haiti_01',mean_ha_01.getInfo())\n",
        "mean_ha_02 = hAverNDVI02.reduceRegion(**{'reducer': ee.Reducer.mean(),'geometry': haiti.geometry(),'scale': 500,'maxPixels': 1e9})\n",
        "print('haiti_02',mean_ha_02.getInfo())\n",
        "mean_ha_03 = hAverNDVI03.reduceRegion(**{'reducer': ee.Reducer.mean(),'geometry': haiti.geometry(),'scale': 500,'maxPixels': 1e9})\n",
        "print('haiti_03',mean_ha_03.getInfo())\n",
        "mean_ha_04 = hAverNDVI04.reduceRegion(**{'reducer': ee.Reducer.mean(),'geometry': haiti.geometry(),'scale': 500,'maxPixels': 1e9})\n",
        "print('haiti_04',mean_ha_04.getInfo())\n",
        "mean_ha_05 = hAverNDVI05.reduceRegion(**{'reducer': ee.Reducer.mean(),'geometry': haiti.geometry(),'scale': 500,'maxPixels': 1e9})\n",
        "print('haiti_05',mean_ha_05.getInfo())\n",
        "mean_ha_06 = hAverNDVI06.reduceRegion(**{'reducer': ee.Reducer.mean(),'geometry': haiti.geometry(),'scale': 500,'maxPixels': 1e9})\n",
        "print('haiti_06',mean_ha_06.getInfo())\n",
        "mean_ha_07 = hAverNDVI07.reduceRegion(**{'reducer': ee.Reducer.mean(),'geometry': haiti.geometry(),'scale': 500,'maxPixels': 1e9})\n",
        "print('haiti_07',mean_ha_07.getInfo())\n",
        "mean_ha_08 = hAverNDVI08.reduceRegion(**{'reducer': ee.Reducer.mean(),'geometry': haiti.geometry(),'scale': 500,'maxPixels': 1e9})\n",
        "print('haiti_08',mean_ha_08.getInfo())\n",
        "mean_ha_09 = hAverNDVI09.reduceRegion(**{'reducer': ee.Reducer.mean(),'geometry': haiti.geometry(),'scale': 500,'maxPixels': 1e9})\n",
        "print('haiti_09',mean_ha_09.getInfo())\n",
        "mean_ha_10 = hAverNDVI10.reduceRegion(**{'reducer': ee.Reducer.mean(),'geometry': haiti.geometry(),'scale': 500,'maxPixels': 1e9})\n",
        "print('haiti_10',mean_ha_10.getInfo())\n",
        "mean_ha_11 = hAverNDVI11.reduceRegion(**{'reducer': ee.Reducer.mean(),'geometry': haiti.geometry(),'scale': 500,'maxPixels': 1e9})\n",
        "print('haiti_11',mean_ha_11.getInfo())\n",
        "mean_ha_12 = hAverNDVI12.reduceRegion(**{'reducer': ee.Reducer.mean(),'geometry': haiti.geometry(),'scale': 500,'maxPixels': 1e9})\n",
        "print('haiti_12',mean_ha_12.getInfo())\n",
        "mean_ha_13 = hAverNDVI13.reduceRegion(**{'reducer': ee.Reducer.mean(),'geometry': haiti.geometry(),'scale': 500,'maxPixels': 1e9})\n",
        "print('haiti_13',mean_ha_13.getInfo())\n",
        "mean_ha_14 = hAverNDVI14.reduceRegion(**{'reducer': ee.Reducer.mean(),'geometry': haiti.geometry(),'scale': 500,'maxPixels': 1e9})\n",
        "print('haiti_14',mean_ha_14.getInfo())\n",
        "mean_ha_15 = hAverNDVI15.reduceRegion(**{'reducer': ee.Reducer.mean(),'geometry': haiti.geometry(),'scale': 500,'maxPixels': 1e9})\n",
        "print('haiti_15',mean_ha_15.getInfo())\n",
        "mean_ha_16 = hAverNDVI16.reduceRegion(**{'reducer': ee.Reducer.mean(),'geometry': haiti.geometry(),'scale': 500,'maxPixels': 1e9})\n",
        "print('haiti_16',mean_ha_16.getInfo())\n",
        "mean_ha_17 = hAverNDVI17.reduceRegion(**{'reducer': ee.Reducer.mean(),'geometry': haiti.geometry(),'scale': 500,'maxPixels': 1e9})\n",
        "print('haiti_17',mean_ha_17.getInfo())\n",
        "mean_ha_18 = hAverNDVI18.reduceRegion(**{'reducer': ee.Reducer.mean(),'geometry': haiti.geometry(),'scale': 500,'maxPixels': 1e9})\n",
        "print('haiti_18',mean_ha_18.getInfo())\n",
        "mean_ha_19 = hAverNDVI19.reduceRegion(**{'reducer': ee.Reducer.mean(),'geometry': haiti.geometry(),'scale': 500,'maxPixels': 1e9})\n",
        "print('haiti_19',mean_ha_19.getInfo())\n",
        "mean_ha_20 = hAverNDVI20.reduceRegion(**{'reducer': ee.Reducer.mean(),'geometry': haiti.geometry(),'scale': 500,'maxPixels': 1e9})\n",
        "print('haiti_20',mean_ha_20.getInfo())"
      ],
      "execution_count": null,
      "outputs": [
        {
          "output_type": "stream",
          "text": [
            "haiti_00 {'NDVI': 6020.365355953348}\n",
            "haiti_01 {'NDVI': 5916.586150645651}\n",
            "haiti_02 {'NDVI': 5844.815596185704}\n",
            "haiti_03 {'NDVI': 5968.69383651047}\n",
            "haiti_04 {'NDVI': 5952.157180295336}\n",
            "haiti_05 {'NDVI': 6011.403741701945}\n",
            "haiti_06 {'NDVI': 6102.434943424451}\n",
            "haiti_07 {'NDVI': 6242.899787244019}\n",
            "haiti_08 {'NDVI': 6039.874859401476}\n",
            "haiti_09 {'NDVI': 6022.746230900918}\n",
            "haiti_10 {'NDVI': 6252.10545856851}\n",
            "haiti_11 {'NDVI': 6094.1184457828285}\n",
            "haiti_12 {'NDVI': 6020.365355953348}\n",
            "haiti_13 {'NDVI': 6025.107449930302}\n",
            "haiti_14 {'NDVI': 5898.790066418578}\n",
            "haiti_15 {'NDVI': 5816.17561318726}\n",
            "haiti_16 {'NDVI': 6061.314070543031}\n",
            "haiti_17 {'NDVI': 6352.776410225924}\n",
            "haiti_18 {'NDVI': 6237.283324585552}\n",
            "haiti_19 {'NDVI': 6123.996513686193}\n",
            "haiti_20 {'NDVI': 5992.436154630967}\n"
          ],
          "name": "stdout"
        }
      ]
    },
    {
      "cell_type": "code",
      "metadata": {
        "id": "b5AHEy41tyk9",
        "outputId": "6a68b7d1-2d1f-4774-fc67-6015a31d01e0",
        "colab": {
          "base_uri": "https://localhost:8080/",
          "height": 374
        }
      },
      "source": [
        "mean_dr_00 = dAverNDVI00.reduceRegion(**{'reducer': ee.Reducer.mean(),'geometry': domRep.geometry(),'scale': 500,'maxPixels': 1e9})\n",
        "print('dompre_00',mean_dr_00.getInfo())\n",
        "mean_dr_01 = dAverNDVI01.reduceRegion(**{'reducer': ee.Reducer.mean(),'geometry': domRep.geometry(),'scale': 500,'maxPixels': 1e9})\n",
        "print('dompre_01',mean_dr_01.getInfo())\n",
        "mean_dr_02 = dAverNDVI02.reduceRegion(**{'reducer': ee.Reducer.mean(),'geometry': domRep.geometry(),'scale': 500,'maxPixels': 1e9})\n",
        "print('dompre_02',mean_dr_02.getInfo())\n",
        "mean_dr_03 = dAverNDVI03.reduceRegion(**{'reducer': ee.Reducer.mean(),'geometry': domRep.geometry(),'scale': 500,'maxPixels': 1e9})\n",
        "print('dompre_03',mean_dr_03.getInfo())\n",
        "mean_dr_04 = dAverNDVI04.reduceRegion(**{'reducer': ee.Reducer.mean(),'geometry': domRep.geometry(),'scale': 500,'maxPixels': 1e9})\n",
        "print('dompre_04',mean_dr_04.getInfo())\n",
        "mean_dr_05 = dAverNDVI05.reduceRegion(**{'reducer': ee.Reducer.mean(),'geometry': domRep.geometry(),'scale': 500,'maxPixels': 1e9})\n",
        "print('dompre_05',mean_dr_05.getInfo())\n",
        "mean_dr_06 = dAverNDVI06.reduceRegion(**{'reducer': ee.Reducer.mean(),'geometry': domRep.geometry(),'scale': 500,'maxPixels': 1e9})\n",
        "print('dompre_06',mean_dr_06.getInfo())\n",
        "mean_dr_07 = dAverNDVI07.reduceRegion(**{'reducer': ee.Reducer.mean(),'geometry': domRep.geometry(),'scale': 500,'maxPixels': 1e9})\n",
        "print('dompre_07',mean_dr_07.getInfo())\n",
        "mean_dr_08 = dAverNDVI08.reduceRegion(**{'reducer': ee.Reducer.mean(),'geometry': domRep.geometry(),'scale': 500,'maxPixels': 1e9})\n",
        "print('dompre_08',mean_dr_08.getInfo())\n",
        "mean_dr_09 = dAverNDVI09.reduceRegion(**{'reducer': ee.Reducer.mean(),'geometry': domRep.geometry(),'scale': 500,'maxPixels': 1e9})\n",
        "print('dompre_09',mean_dr_09.getInfo())\n",
        "mean_dr_10 = dAverNDVI10.reduceRegion(**{'reducer': ee.Reducer.mean(),'geometry': domRep.geometry(),'scale': 500,'maxPixels': 1e9})\n",
        "print('dompre_10',mean_dr_10.getInfo())\n",
        "mean_dr_11 = dAverNDVI11.reduceRegion(**{'reducer': ee.Reducer.mean(),'geometry': domRep.geometry(),'scale': 500,'maxPixels': 1e9})\n",
        "print('dompre_11',mean_dr_11.getInfo())\n",
        "mean_dr_12 = dAverNDVI12.reduceRegion(**{'reducer': ee.Reducer.mean(),'geometry': domRep.geometry(),'scale': 500,'maxPixels': 1e9})\n",
        "print('dompre_12',mean_dr_12.getInfo())\n",
        "mean_dr_13 = dAverNDVI13.reduceRegion(**{'reducer': ee.Reducer.mean(),'geometry': domRep.geometry(),'scale': 500,'maxPixels': 1e9})\n",
        "print('dompre_13',mean_dr_13.getInfo())\n",
        "mean_dr_14 = dAverNDVI14.reduceRegion(**{'reducer': ee.Reducer.mean(),'geometry': domRep.geometry(),'scale': 500,'maxPixels': 1e9})\n",
        "print('dompre_14',mean_dr_14.getInfo())\n",
        "mean_dr_15 = dAverNDVI15.reduceRegion(**{'reducer': ee.Reducer.mean(),'geometry': domRep.geometry(),'scale': 500,'maxPixels': 1e9})\n",
        "print('dompre_15',mean_dr_15.getInfo())\n",
        "mean_dr_16 = dAverNDVI16.reduceRegion(**{'reducer': ee.Reducer.mean(),'geometry': domRep.geometry(),'scale': 500,'maxPixels': 1e9})\n",
        "print('dompre_16',mean_dr_16.getInfo())\n",
        "mean_dr_17 = dAverNDVI17.reduceRegion(**{'reducer': ee.Reducer.mean(),'geometry': domRep.geometry(),'scale': 500,'maxPixels': 1e9})\n",
        "print('dompre_17',mean_dr_17.getInfo())\n",
        "mean_dr_18 = dAverNDVI18.reduceRegion(**{'reducer': ee.Reducer.mean(),'geometry': domRep.geometry(),'scale': 500,'maxPixels': 1e9})\n",
        "print('dompre_18',mean_dr_18.getInfo())\n",
        "mean_dr_19 = dAverNDVI19.reduceRegion(**{'reducer': ee.Reducer.mean(),'geometry': domRep.geometry(),'scale': 500,'maxPixels': 1e9})\n",
        "print('dompre_19',mean_dr_19.getInfo())\n",
        "mean_dr_20 = dAverNDVI20.reduceRegion(**{'reducer': ee.Reducer.mean(),'geometry': domRep.geometry(),'scale': 500,'maxPixels': 1e9})\n",
        "print('dompre_20',mean_dr_20.getInfo())"
      ],
      "execution_count": null,
      "outputs": [
        {
          "output_type": "stream",
          "text": [
            "dompre_00 {'NDVI': 6367.834101343071}\n",
            "dompre_01 {'NDVI': 6448.346773969685}\n",
            "dompre_02 {'NDVI': 6500.8736558401415}\n",
            "dompre_03 {'NDVI': 6617.880044802378}\n",
            "dompre_04 {'NDVI': 6802.761252662101}\n",
            "dompre_05 {'NDVI': 6751.2295031048625}\n",
            "dompre_06 {'NDVI': 6938.887569233519}\n",
            "dompre_07 {'NDVI': 6824.477978808257}\n",
            "dompre_08 {'NDVI': 6803.812543466582}\n",
            "dompre_09 {'NDVI': 6784.863320902186}\n",
            "dompre_10 {'NDVI': 6784.42558955278}\n",
            "dompre_11 {'NDVI': 6792.470869579324}\n",
            "dompre_12 {'NDVI': 6851.029415953655}\n",
            "dompre_13 {'NDVI': 6744.96796243087}\n",
            "dompre_14 {'NDVI': 6583.6289088747335}\n",
            "dompre_15 {'NDVI': 6424.784594468196}\n",
            "dompre_16 {'NDVI': 6786.824151239892}\n",
            "dompre_17 {'NDVI': 7054.2666580976265}\n",
            "dompre_18 {'NDVI': 6796.681049240139}\n",
            "dompre_19 {'NDVI': 6681.94458251321}\n",
            "dompre_20 {'NDVI': 6648.651314240303}\n"
          ],
          "name": "stdout"
        }
      ]
    },
    {
      "cell_type": "code",
      "metadata": {
        "id": "dQmFj4oClznA",
        "outputId": "b500b926-214d-4dcb-9fbc-c5fb78e264ff",
        "colab": {
          "base_uri": "https://localhost:8080/",
          "height": 119
        }
      },
      "source": [
        "years=[2000 , 2001 , 2002 , 2003 , 2004 , 2005 , 2006 , 2007 , 2008 , 2009 , 2010 , 2011 , 2012 , 2013 , 2014 , 2015 , 2016 , 2017 , 2018 , 2019 , 2020]\n",
        "Haiti=[6020.36 , 5916.58 , 5844.81 , 5968.69 , 5952.15 , 6011.40 , 6102.43 , 6242.89 , 6039.87 , 6022.74 , 6252.10 , 6094.11 , 6020.36 , 6025.10 , 5898.79 , 5816.17 , 6061.31 , 6352.77 , 6237.28 , 6123.99 , 5992.43]\n",
        "DomRe=[6367.83 , 6448.34 , 6500.87 , 6617.88 , 6802.76 , 6751.22 , 6938.88 , 6824.47 , 6803.81 , 6784.86 , 6784.42 , 6792.47 , 6851.02 , 6744.96 , 6583.62 , 6424.78 , 6786.82 , 7054.26 , 6796.68 , 6681.94 , 6648.65]\n",
        "print('years',years)\n",
        "print('Haiti',Haiti)\n",
        "print('DomRe',DomRe)\n",
        "print(len(years))\n",
        "print(len(Haiti))\n",
        "print(len(DomRe))"
      ],
      "execution_count": null,
      "outputs": [
        {
          "output_type": "stream",
          "text": [
            "years [2000, 2001, 2002, 2003, 2004, 2005, 2006, 2007, 2008, 2009, 2010, 2011, 2012, 2013, 2014, 2015, 2016, 2017, 2018, 2019, 2020]\n",
            "Haiti [6020.36, 5916.58, 5844.81, 5968.69, 5952.15, 6011.4, 6102.43, 6242.89, 6039.87, 6022.74, 6252.1, 6094.11, 6020.36, 6025.1, 5898.79, 5816.17, 6061.31, 6352.77, 6237.28, 6123.99, 5992.43]\n",
            "DomRe [6367.83, 6448.34, 6500.87, 6617.88, 6802.76, 6751.22, 6938.88, 6824.47, 6803.81, 6784.86, 6784.42, 6792.47, 6851.02, 6744.96, 6583.62, 6424.78, 6786.82, 7054.26, 6796.68, 6681.94, 6648.65]\n",
            "21\n",
            "21\n",
            "21\n"
          ],
          "name": "stdout"
        }
      ]
    },
    {
      "cell_type": "code",
      "metadata": {
        "id": "L9bPfM3Fshsb",
        "outputId": "f4dc0f0b-308d-4271-afa0-990c0fbc777e",
        "colab": {
          "base_uri": "https://localhost:8080/",
          "height": 295
        }
      },
      "source": [
        "import matplotlib.pyplot as plt\n",
        "import numpy as np\n",
        "\n",
        "fig, axes = plt.subplots() # calling subplots without any arguments creates a one axes by default\n",
        "axes.plot(years, Haiti, color='r', linewidth=2.0, linestyle='-',alpha=1, label='Haiti');\n",
        "axes.plot(years, DomRe, color='b', linewidth=2.0, linestyle='-',alpha=1, label='Dominican Republic');\n",
        "axes.grid(True)\n",
        "axes.set_title('Average NDVI');\n",
        "axes.legend(loc='upper left', );\n",
        "xticks(np.arange(2000, 2021, step=2));\n",
        "axes.set(ylabel=\"average NDVI\",xlabel=\"years\");"
      ],
      "execution_count": null,
      "outputs": [
        {
          "output_type": "display_data",
          "data": {
            "image/png": "[encoded data removed]",
            "text/plain": [
              "<Figure size 432x288 with 1 Axes>"
            ]
          },
          "metadata": {
            "tags": [],
            "needs_background": "light"
          }
        }
      ]
    },
    {
      "cell_type": "code",
      "metadata": {
        "id": "Jtk4CL3k3ECg",
        "outputId": "702232fb-5abe-48ff-f2b4-d7c37b3c7495",
        "colab": {
          "base_uri": "https://localhost:8080/",
          "height": 312
        }
      },
      "source": [
        "fig, axes = plt.subplots() # calling subplots without any arguments creates a one axes by default\n",
        "axes.bar(years, DomRe, color='b', label='Dominican Republic')\n",
        "axes.bar(years, Haiti, color='r', label='Haiti')\n",
        "axes.set_title('Average NDVI')\n",
        "axes.legend(loc='lower right');\n",
        "axes.set(ylabel=\"average NDVI\",xlabel=\"years\")"
      ],
      "execution_count": null,
      "outputs": [
        {
          "output_type": "execute_result",
          "data": {
            "text/plain": [
              "[Text(0, 0.5, 'average NDVI'), Text(0.5, 0, 'years')]"
            ]
          },
          "metadata": {
            "tags": []
          },
          "execution_count": 128
        },
        {
          "output_type": "display_data",
          "data": {
            "image/png": "[encoded data removed]",
            "text/plain": [
              "<Figure size 432x288 with 1 Axes>"
            ]
          },
          "metadata": {
            "tags": [],
            "needs_background": "light"
          }
        }
      ]
    },
    {
      "cell_type": "code",
      "metadata": {
        "id": "V-R227J539Uq",
        "outputId": "f36de3ad-43c0-4241-f79c-9d1b9153ce3c",
        "colab": {
          "base_uri": "https://localhost:8080/",
          "height": 350
        }
      },
      "source": [
        "fig, axes = plt.subplots(nrows=1, ncols=2, figsize=(15,5))\n",
        "axes[0].plot(years, Haiti, color='r', linewidth=2.0, linestyle='-',alpha=1, label='Haiti');\n",
        "axes[0].plot(years, DomRe, color='b', linewidth=2.0, linestyle='-',alpha=1, label='Dominican Republic');\n",
        "axes[0].grid(True)\n",
        "axes[0].set_title('Average NDVI');\n",
        "axes[0].legend(loc='upper left', );\n",
        "axes[0].set(ylabel=\"average NDVI\",xlabel=\"years\");\n",
        "\n",
        "\n",
        "axes[1].bar(years, DomRe, color='b', label='Dominican Republic')\n",
        "axes[1].bar(years, Haiti, color='r', label='Haiti')\n",
        "axes[1].set_title('Average NDVI')\n",
        "axes[1].legend(loc='lower right');\n",
        "axes[1].set(ylabel=\"average NDVI\",xlabel=\"years\");\n",
        "plt.setp(axes, xticks=np.arange(2000, 2021, step=2))\n",
        "plt.savefig('average_NDVI_subplot.png',dpi=300,transparent=True,bbox_inches='tight')"
      ],
      "execution_count": 141,
      "outputs": [
        {
          "output_type": "display_data",
          "data": {
            "image/png": "[encoded data removed]",
            "text/plain": [
              "<Figure size 1080x360 with 2 Axes>"
            ]
          },
          "metadata": {
            "tags": [],
            "needs_background": "light"
          }
        }
      ]
    },
    {
      "cell_type": "code",
      "metadata": {
        "id": "n_6IceQ-TrFC",
        "outputId": "09967dfe-ac44-43cc-86dd-8b1e0f6faf25",
        "colab": {
          "base_uri": "https://localhost:8080/",
          "height": 1000
        }
      },
      "source": [
        "# View the imagery \n",
        "import folium\n",
        "!pip install geehydro # Life saver for plotting GEE stuff with Python!\n",
        "import geehydro\n",
        "#print(points.getInfo())\n",
        "# Use folium to visualize the imagery.\n",
        "map = folium.Map(location=[19.002869, -71.083427],zoom_start= 8) \n",
        "map.addLayer(hAverNDVI08, {'min':0,'max':10000,'bands': ['NDVI'],'palette': ['000000', '66FF00'], 'opacity':1}, 'hAverNDVI05')\n",
        "folium.LayerControl().add_to(map)\n",
        "map"
      ],
      "execution_count": null,
      "outputs": [
        {
          "output_type": "stream",
          "text": [
            "Requirement already satisfied: geehydro in /usr/local/lib/python3.6/dist-packages (0.2.0)\n",
            "Requirement already satisfied: folium in /usr/local/lib/python3.6/dist-packages (from geehydro) (0.8.3)\n",
            "Requirement already satisfied: click in /usr/local/lib/python3.6/dist-packages (from geehydro) (7.1.2)\n",
            "Requirement already satisfied: earthengine-api in /usr/local/lib/python3.6/dist-packages (from geehydro) (0.1.236)\n",
            "Requirement already satisfied: branca>=0.3.0 in /usr/local/lib/python3.6/dist-packages (from folium->geehydro) (0.4.1)\n",
            "Requirement already satisfied: numpy in /usr/local/lib/python3.6/dist-packages (from folium->geehydro) (1.18.5)\n",
            "Requirement already satisfied: six in /usr/local/lib/python3.6/dist-packages (from folium->geehydro) (1.15.0)\n",
            "Requirement already satisfied: jinja2 in /usr/local/lib/python3.6/dist-packages (from folium->geehydro) (2.11.2)\n",
            "Requirement already satisfied: requests in /usr/local/lib/python3.6/dist-packages (from folium->geehydro) (2.23.0)\n",
            "Requirement already satisfied: google-auth-httplib2>=0.0.3 in /usr/local/lib/python3.6/dist-packages (from earthengine-api->geehydro) (0.0.4)\n",
            "Requirement already satisfied: google-cloud-storage in /usr/local/lib/python3.6/dist-packages (from earthengine-api->geehydro) (1.18.1)\n",
            "Requirement already satisfied: google-auth>=1.4.1 in /usr/local/lib/python3.6/dist-packages (from earthengine-api->geehydro) (1.17.2)\n",
            "Requirement already satisfied: httplib2shim in /usr/local/lib/python3.6/dist-packages (from earthengine-api->geehydro) (0.0.3)\n",
            "Requirement already satisfied: google-api-python-client in /usr/local/lib/python3.6/dist-packages (from earthengine-api->geehydro) (1.7.12)\n",
            "Requirement already satisfied: httplib2<1dev,>=0.9.2 in /usr/local/lib/python3.6/dist-packages (from earthengine-api->geehydro) (0.17.4)\n",
            "Requirement already satisfied: future in /usr/local/lib/python3.6/dist-packages (from earthengine-api->geehydro) (0.16.0)\n",
            "Requirement already satisfied: MarkupSafe>=0.23 in /usr/local/lib/python3.6/dist-packages (from jinja2->folium->geehydro) (1.1.1)\n",
            "Requirement already satisfied: idna<3,>=2.5 in /usr/local/lib/python3.6/dist-packages (from requests->folium->geehydro) (2.10)\n",
            "Requirement already satisfied: urllib3!=1.25.0,!=1.25.1,<1.26,>=1.21.1 in /usr/local/lib/python3.6/dist-packages (from requests->folium->geehydro) (1.24.3)\n",
            "Requirement already satisfied: certifi>=2017.4.17 in /usr/local/lib/python3.6/dist-packages (from requests->folium->geehydro) (2020.6.20)\n",
            "Requirement already satisfied: chardet<4,>=3.0.2 in /usr/local/lib/python3.6/dist-packages (from requests->folium->geehydro) (3.0.4)\n",
            "Requirement already satisfied: google-cloud-core<2.0dev,>=1.0.0 in /usr/local/lib/python3.6/dist-packages (from google-cloud-storage->earthengine-api->geehydro) (1.0.3)\n",
            "Requirement already satisfied: google-resumable-media<0.5.0dev,>=0.3.1 in /usr/local/lib/python3.6/dist-packages (from google-cloud-storage->earthengine-api->geehydro) (0.4.1)\n",
            "Requirement already satisfied: rsa<5,>=3.1.4; python_version >= \"3\" in /usr/local/lib/python3.6/dist-packages (from google-auth>=1.4.1->earthengine-api->geehydro) (4.6)\n",
            "Requirement already satisfied: cachetools<5.0,>=2.0.0 in /usr/local/lib/python3.6/dist-packages (from google-auth>=1.4.1->earthengine-api->geehydro) (4.1.1)\n",
            "Requirement already satisfied: setuptools>=40.3.0 in /usr/local/lib/python3.6/dist-packages (from google-auth>=1.4.1->earthengine-api->geehydro) (50.3.0)\n",
            "Requirement already satisfied: pyasn1-modules>=0.2.1 in /usr/local/lib/python3.6/dist-packages (from google-auth>=1.4.1->earthengine-api->geehydro) (0.2.8)\n",
            "Requirement already satisfied: uritemplate<4dev,>=3.0.0 in /usr/local/lib/python3.6/dist-packages (from google-api-python-client->earthengine-api->geehydro) (3.0.1)\n",
            "Requirement already satisfied: google-api-core<2.0.0dev,>=1.14.0 in /usr/local/lib/python3.6/dist-packages (from google-cloud-core<2.0dev,>=1.0.0->google-cloud-storage->earthengine-api->geehydro) (1.16.0)\n",
            "Requirement already satisfied: pyasn1>=0.1.3 in /usr/local/lib/python3.6/dist-packages (from rsa<5,>=3.1.4; python_version >= \"3\"->google-auth>=1.4.1->earthengine-api->geehydro) (0.4.8)\n",
            "Requirement already satisfied: googleapis-common-protos<2.0dev,>=1.6.0 in /usr/local/lib/python3.6/dist-packages (from google-api-core<2.0.0dev,>=1.14.0->google-cloud-core<2.0dev,>=1.0.0->google-cloud-storage->earthengine-api->geehydro) (1.52.0)\n",
            "Requirement already satisfied: pytz in /usr/local/lib/python3.6/dist-packages (from google-api-core<2.0.0dev,>=1.14.0->google-cloud-core<2.0dev,>=1.0.0->google-cloud-storage->earthengine-api->geehydro) (2018.9)\n",
            "Requirement already satisfied: protobuf>=3.4.0 in /usr/local/lib/python3.6/dist-packages (from google-api-core<2.0.0dev,>=1.14.0->google-cloud-core<2.0dev,>=1.0.0->google-cloud-storage->earthengine-api->geehydro) (3.12.4)\n"
          ],
          "name": "stdout"
        },
        {
          "output_type": "execute_result",
          "data": {
            "text/html": [
              "<div style=\"width:100%;\"><div style=\"position:relative;width:100%;height:0;padding-bottom:60%;\"><span style=\"color:#565656\">Make this Notebook Trusted to load map: File -> Trust Notebook</span><iframe src=\"about:blank\" style=\"position:absolute;width:100%;height:100%;left:0;top:0;border:none !important;\" data-html=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 onload=\"this.contentDocument.open();this.contentDocument.write(atob(this.getAttribute('data-html')));this.contentDocument.close();\" allowfullscreen webkitallowfullscreen mozallowfullscreen></iframe></div></div>"
            ],
            "text/plain": [
              "<folium.folium.Map at 0x7f682a307550>"
            ]
          },
          "metadata": {
            "tags": []
          },
          "execution_count": 84
        }
      ]
    },
    {
      "cell_type": "code",
      "metadata": {
        "id": "UpGRZj78tnVE",
        "outputId": "e3e0ed3b-1221-4d9a-99d2-d3f8747d8309",
        "colab": {
          "base_uri": "https://localhost:8080/",
          "height": 1000
        }
      },
      "source": [
        ""
      ],
      "execution_count": null,
      "outputs": [
        {
          "output_type": "stream",
          "text": [
            "Requirement already satisfied: geehydro in /usr/local/lib/python3.6/dist-packages (0.2.0)\n",
            "Requirement already satisfied: click in /usr/local/lib/python3.6/dist-packages (from geehydro) (7.1.2)\n",
            "Requirement already satisfied: folium in /usr/local/lib/python3.6/dist-packages (from geehydro) (0.8.3)\n",
            "Requirement already satisfied: earthengine-api in /usr/local/lib/python3.6/dist-packages (from geehydro) (0.1.236)\n",
            "Requirement already satisfied: numpy in /usr/local/lib/python3.6/dist-packages (from folium->geehydro) (1.18.5)\n",
            "Requirement already satisfied: jinja2 in /usr/local/lib/python3.6/dist-packages (from folium->geehydro) (2.11.2)\n",
            "Requirement already satisfied: branca>=0.3.0 in /usr/local/lib/python3.6/dist-packages (from folium->geehydro) (0.4.1)\n",
            "Requirement already satisfied: requests in /usr/local/lib/python3.6/dist-packages (from folium->geehydro) (2.23.0)\n",
            "Requirement already satisfied: six in /usr/local/lib/python3.6/dist-packages (from folium->geehydro) (1.15.0)\n",
            "Requirement already satisfied: httplib2<1dev,>=0.9.2 in /usr/local/lib/python3.6/dist-packages (from earthengine-api->geehydro) (0.17.4)\n",
            "Requirement already satisfied: httplib2shim in /usr/local/lib/python3.6/dist-packages (from earthengine-api->geehydro) (0.0.3)\n",
            "Requirement already satisfied: google-cloud-storage in /usr/local/lib/python3.6/dist-packages (from earthengine-api->geehydro) (1.18.1)\n",
            "Requirement already satisfied: google-api-python-client in /usr/local/lib/python3.6/dist-packages (from earthengine-api->geehydro) (1.7.12)\n",
            "Requirement already satisfied: google-auth-httplib2>=0.0.3 in /usr/local/lib/python3.6/dist-packages (from earthengine-api->geehydro) (0.0.4)\n",
            "Requirement already satisfied: future in /usr/local/lib/python3.6/dist-packages (from earthengine-api->geehydro) (0.16.0)\n",
            "Requirement already satisfied: google-auth>=1.4.1 in /usr/local/lib/python3.6/dist-packages (from earthengine-api->geehydro) (1.17.2)\n",
            "Requirement already satisfied: MarkupSafe>=0.23 in /usr/local/lib/python3.6/dist-packages (from jinja2->folium->geehydro) (1.1.1)\n",
            "Requirement already satisfied: certifi>=2017.4.17 in /usr/local/lib/python3.6/dist-packages (from requests->folium->geehydro) (2020.6.20)\n",
            "Requirement already satisfied: idna<3,>=2.5 in /usr/local/lib/python3.6/dist-packages (from requests->folium->geehydro) (2.10)\n",
            "Requirement already satisfied: chardet<4,>=3.0.2 in /usr/local/lib/python3.6/dist-packages (from requests->folium->geehydro) (3.0.4)\n",
            "Requirement already satisfied: urllib3!=1.25.0,!=1.25.1,<1.26,>=1.21.1 in /usr/local/lib/python3.6/dist-packages (from requests->folium->geehydro) (1.24.3)\n",
            "Requirement already satisfied: google-cloud-core<2.0dev,>=1.0.0 in /usr/local/lib/python3.6/dist-packages (from google-cloud-storage->earthengine-api->geehydro) (1.0.3)\n",
            "Requirement already satisfied: google-resumable-media<0.5.0dev,>=0.3.1 in /usr/local/lib/python3.6/dist-packages (from google-cloud-storage->earthengine-api->geehydro) (0.4.1)\n",
            "Requirement already satisfied: uritemplate<4dev,>=3.0.0 in /usr/local/lib/python3.6/dist-packages (from google-api-python-client->earthengine-api->geehydro) (3.0.1)\n",
            "Requirement already satisfied: pyasn1-modules>=0.2.1 in /usr/local/lib/python3.6/dist-packages (from google-auth>=1.4.1->earthengine-api->geehydro) (0.2.8)\n",
            "Requirement already satisfied: cachetools<5.0,>=2.0.0 in /usr/local/lib/python3.6/dist-packages (from google-auth>=1.4.1->earthengine-api->geehydro) (4.1.1)\n",
            "Requirement already satisfied: setuptools>=40.3.0 in /usr/local/lib/python3.6/dist-packages (from google-auth>=1.4.1->earthengine-api->geehydro) (50.3.0)\n",
            "Requirement already satisfied: rsa<5,>=3.1.4; python_version >= \"3\" in /usr/local/lib/python3.6/dist-packages (from google-auth>=1.4.1->earthengine-api->geehydro) (4.6)\n",
            "Requirement already satisfied: google-api-core<2.0.0dev,>=1.14.0 in /usr/local/lib/python3.6/dist-packages (from google-cloud-core<2.0dev,>=1.0.0->google-cloud-storage->earthengine-api->geehydro) (1.16.0)\n",
            "Requirement already satisfied: pyasn1<0.5.0,>=0.4.6 in /usr/local/lib/python3.6/dist-packages (from pyasn1-modules>=0.2.1->google-auth>=1.4.1->earthengine-api->geehydro) (0.4.8)\n",
            "Requirement already satisfied: protobuf>=3.4.0 in /usr/local/lib/python3.6/dist-packages (from google-api-core<2.0.0dev,>=1.14.0->google-cloud-core<2.0dev,>=1.0.0->google-cloud-storage->earthengine-api->geehydro) (3.12.4)\n",
            "Requirement already satisfied: pytz in /usr/local/lib/python3.6/dist-packages (from google-api-core<2.0.0dev,>=1.14.0->google-cloud-core<2.0dev,>=1.0.0->google-cloud-storage->earthengine-api->geehydro) (2018.9)\n",
            "Requirement already satisfied: googleapis-common-protos<2.0dev,>=1.6.0 in /usr/local/lib/python3.6/dist-packages (from google-api-core<2.0.0dev,>=1.14.0->google-cloud-core<2.0dev,>=1.0.0->google-cloud-storage->earthengine-api->geehydro) (1.52.0)\n"
          ],
          "name": "stdout"
        },
        {
          "output_type": "execute_result",
          "data": {
            "text/html": [
              "<div style=\"width:100%;\"><div style=\"position:relative;width:100%;height:0;padding-bottom:60%;\"><span style=\"color:#565656\">Make this Notebook Trusted to load map: File -> Trust Notebook</span><iframe src=\"about:blank\" style=\"position:absolute;width:100%;height:100%;left:0;top:0;border:none !important;\" data-html=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 onload=\"this.contentDocument.open();this.contentDocument.write(atob(this.getAttribute('data-html')));this.contentDocument.close();\" allowfullscreen webkitallowfullscreen mozallowfullscreen></iframe></div></div>"
            ],
            "text/plain": [
              "<folium.folium.Map at 0x7f68335d30f0>"
            ]
          },
          "metadata": {
            "tags": []
          },
          "execution_count": 12
        }
      ]
    },
    {
      "cell_type": "code",
      "metadata": {
        "id": "dJ-B6YqTwouM"
      },
      "source": [
        ""
      ],
      "execution_count": null,
      "outputs": []
    },
    {
      "cell_type": "code",
      "metadata": {
        "id": "gcpfRvjz5lxr"
      },
      "source": [
        ""
      ],
      "execution_count": null,
      "outputs": []
    },
    {
      "cell_type": "code",
      "metadata": {
        "id": "ZNBhdmYq6BPD",
        "outputId": "32dd4475-bdfa-4e79-feb7-dca5510b0ab7",
        "colab": {
          "base_uri": "https://localhost:8080/",
          "height": 1000
        }
      },
      "source": [
        "print(series)"
      ],
      "execution_count": null,
      "outputs": [
        {
          "output_type": "stream",
          "text": [
            "ee.ImageCollection({\n",
            "  \"functionInvocationValue\": {\n",
            "    \"functionName\": \"Collection.map\",\n",
            "    \"arguments\": {\n",
            "      \"baseAlgorithm\": {\n",
            "        \"functionDefinitionValue\": {\n",
            "          \"argumentNames\": [\n",
            "            \"_MAPPING_VAR_1_0\"\n",
            "          ],\n",
            "          \"body\": {\n",
            "            \"functionInvocationValue\": {\n",
            "              \"functionName\": \"Element.set\",\n",
            "              \"arguments\": {\n",
            "                \"key\": {\n",
            "                  \"constantValue\": \"system:time_start\"\n",
            "                },\n",
            "                \"object\": {\n",
            "                  \"functionInvocationValue\": {\n",
            "                    \"functionName\": \"Image.subtract\",\n",
            "                    \"arguments\": {\n",
            "                      \"image1\": {\n",
            "                        \"argumentReference\": \"_MAPPING_VAR_1_0\"\n",
            "                      },\n",
            "                      \"image2\": {\n",
            "                        \"functionInvocationValue\": {\n",
            "                          \"functionName\": \"reduce.mean\",\n",
            "                          \"arguments\": {\n",
            "                            \"collection\": {\n",
            "                              \"functionInvocationValue\": {\n",
            "                                \"functionName\": \"Collection.limit\",\n",
            "                                \"arguments\": {\n",
            "                                  \"ascending\": {\n",
            "                                    \"constantValue\": false\n",
            "                                  },\n",
            "                                  \"collection\": {\n",
            "                                    \"functionInvocationValue\": {\n",
            "                                      \"functionName\": \"Collection.filter\",\n",
            "                                      \"arguments\": {\n",
            "                                        \"collection\": {\n",
            "                                          \"functionInvocationValue\": {\n",
            "                                            \"functionName\": \"Collection.map\",\n",
            "                                            \"arguments\": {\n",
            "                                              \"baseAlgorithm\": {\n",
            "                                                \"functionDefinitionValue\": {\n",
            "                                                  \"argumentNames\": [\n",
            "                                                    \"_MAPPING_VAR_0_0\"\n",
            "                                                  ],\n",
            "                                                  \"body\": {\n",
            "                                                    \"functionInvocationValue\": {\n",
            "                                                      \"functionName\": \"Image.select\",\n",
            "                                                      \"arguments\": {\n",
            "                                                        \"bandSelectors\": {\n",
            "                                                          \"constantValue\": [\n",
            "                                                            \"EVI\"\n",
            "                                                          ]\n",
            "                                                        },\n",
            "                                                        \"input\": {\n",
            "                                                          \"argumentReference\": \"_MAPPING_VAR_0_0\"\n",
            "                                                        }\n",
            "                                                      }\n",
            "                                                    }\n",
            "                                                  }\n",
            "                                                }\n",
            "                                              },\n",
            "                                              \"collection\": {\n",
            "                                                \"functionInvocationValue\": {\n",
            "                                                  \"functionName\": \"ImageCollection.load\",\n",
            "                                                  \"arguments\": {\n",
            "                                                    \"id\": {\n",
            "                                                      \"constantValue\": \"MODIS/006/MOD13Q1\"\n",
            "                                                    }\n",
            "                                                  }\n",
            "                                                }\n",
            "                                              }\n",
            "                                            }\n",
            "                                          }\n",
            "                                        },\n",
            "                                        \"filter\": {\n",
            "                                          \"functionInvocationValue\": {\n",
            "                                            \"functionName\": \"Filter.dateRangeContains\",\n",
            "                                            \"arguments\": {\n",
            "                                              \"leftValue\": {\n",
            "                                                \"functionInvocationValue\": {\n",
            "                                                  \"functionName\": \"DateRange\",\n",
            "                                                  \"arguments\": {\n",
            "                                                    \"end\": {\n",
            "                                                      \"constantValue\": \"2009-12-31\"\n",
            "                                                    },\n",
            "                                                    \"start\": {\n",
            "                                                      \"constantValue\": \"2000-01-01\"\n",
            "                                                    }\n",
            "                                                  }\n",
            "                                                }\n",
            "                                              },\n",
            "                                              \"rightField\": {\n",
            "                                                \"constantValue\": \"system:time_start\"\n",
            "                                              }\n",
            "                                            }\n",
            "                                          }\n",
            "                                        }\n",
            "                                      }\n",
            "                                    }\n",
            "                                  },\n",
            "                                  \"key\": {\n",
            "                                    \"constantValue\": \"system:time_start\"\n",
            "                                  }\n",
            "                                }\n",
            "                              }\n",
            "                            }\n",
            "                          }\n",
            "                        }\n",
            "                      }\n",
            "                    }\n",
            "                  }\n",
            "                },\n",
            "                \"value\": {\n",
            "                  \"functionInvocationValue\": {\n",
            "                    \"functionName\": \"Element.get\",\n",
            "                    \"arguments\": {\n",
            "                      \"object\": {\n",
            "                        \"argumentReference\": \"_MAPPING_VAR_1_0\"\n",
            "                      },\n",
            "                      \"property\": {\n",
            "                        \"constantValue\": \"system:time_start\"\n",
            "                      }\n",
            "                    }\n",
            "                  }\n",
            "                }\n",
            "              }\n",
            "            }\n",
            "          }\n",
            "        }\n",
            "      },\n",
            "      \"collection\": {\n",
            "        \"functionInvocationValue\": {\n",
            "          \"functionName\": \"Collection.map\",\n",
            "          \"arguments\": {\n",
            "            \"baseAlgorithm\": {\n",
            "              \"functionDefinitionValue\": {\n",
            "                \"argumentNames\": [\n",
            "                  \"_MAPPING_VAR_0_0\"\n",
            "                ],\n",
            "                \"body\": {\n",
            "                  \"functionInvocationValue\": {\n",
            "                    \"functionName\": \"Image.select\",\n",
            "                    \"arguments\": {\n",
            "                      \"bandSelectors\": {\n",
            "                        \"constantValue\": [\n",
            "                          \"EVI\"\n",
            "                        ]\n",
            "                      },\n",
            "                      \"input\": {\n",
            "                        \"argumentReference\": \"_MAPPING_VAR_0_0\"\n",
            "                      }\n",
            "                    }\n",
            "                  }\n",
            "                }\n",
            "              }\n",
            "            },\n",
            "            \"collection\": {\n",
            "              \"functionInvocationValue\": {\n",
            "                \"functionName\": \"ImageCollection.load\",\n",
            "                \"arguments\": {\n",
            "                  \"id\": {\n",
            "                    \"constantValue\": \"MODIS/006/MOD13Q1\"\n",
            "                  }\n",
            "                }\n",
            "              }\n",
            "            }\n",
            "          }\n",
            "        }\n",
            "      }\n",
            "    }\n",
            "  }\n",
            "})\n"
          ],
          "name": "stdout"
        }
      ]
    },
    {
      "cell_type": "code",
      "metadata": {
        "id": "DzseFYjmGC3z",
        "outputId": "dc45d234-3e89-44b2-f142-c67d1fd9edf5",
        "colab": {
          "base_uri": "https://localhost:8080/",
          "height": 34
        }
      },
      "source": [
        ""
      ],
      "execution_count": null,
      "outputs": [
        {
          "output_type": "execute_result",
          "data": {
            "text/plain": [
              "ee.imagecollection.ImageCollection"
            ]
          },
          "metadata": {
            "tags": []
          },
          "execution_count": 18
        }
      ]
    },
    {
      "cell_type": "code",
      "metadata": {
        "id": "vCNG7VxmG_SP"
      },
      "source": [
        ""
      ],
      "execution_count": null,
      "outputs": []
    }
  ]
}