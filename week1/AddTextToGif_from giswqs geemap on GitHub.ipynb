{
 "cells": [
  {
   "cell_type": "code",
   "execution_count": 3,
   "metadata": {},
   "outputs": [
    {
     "name": "stdout",
     "output_type": "stream",
     "text": [
      "Collecting geemap\n",
      "  Using cached geemap-0.8.0-py2.py3-none-any.whl (376 kB)\n",
      "Collecting folium>=0.11.0\n",
      "  Using cached folium-0.11.0-py2.py3-none-any.whl (93 kB)\n",
      "Requirement already satisfied: pyshp in c:\\users\\s1437405\\anaconda3\\envs\\sense2020\\lib\\site-packages (from geemap) (2.1.2)\n",
      "Collecting ipynb-py-convert\n",
      "  Using cached ipynb-py-convert-0.4.6.tar.gz (3.9 kB)\n",
      "Requirement already satisfied: pillow in c:\\users\\s1437405\\anaconda3\\envs\\sense2020\\lib\\site-packages (from geemap) (8.0.0)\n",
      "Collecting earthengine-api>=0.1.230\n",
      "  Using cached earthengine-api-0.1.239.tar.gz (157 kB)\n",
      "Collecting geeadd>=0.5.1\n",
      "  Using cached geeadd-0.5.2-py3-none-any.whl (29 kB)\n",
      "Collecting ipyleaflet>=0.13.3\n",
      "  Using cached ipyleaflet-0.13.3-py2.py3-none-any.whl (5.1 MB)\n",
      "Collecting bqplot\n",
      "  Using cached bqplot-0.12.18-py2.py3-none-any.whl (4.9 MB)\n",
      "Collecting ipyfilechooser\n",
      "  Using cached ipyfilechooser-0.4.0-py3-none-any.whl (8.0 kB)\n",
      "Collecting ipytree\n",
      "  Using cached ipytree-0.1.8-py2.py3-none-any.whl (1.1 MB)\n",
      "Collecting mss\n",
      "  Using cached mss-6.0.0-py3-none-any.whl (76 kB)\n",
      "Collecting colour\n",
      "  Using cached colour-0.1.5-py2.py3-none-any.whl (23 kB)\n",
      "Collecting click\n",
      "  Using cached click-7.1.2-py2.py3-none-any.whl (82 kB)\n",
      "Collecting voila\n",
      "  Using cached voila-0.2.4-py3-none-any.whl (1.9 MB)\n",
      "Collecting ffmpeg-python\n",
      "  Using cached ffmpeg_python-0.2.0-py3-none-any.whl (25 kB)\n",
      "Collecting geocoder\n",
      "  Using cached geocoder-1.38.1-py2.py3-none-any.whl (98 kB)\n",
      "Requirement already satisfied: matplotlib in c:\\users\\s1437405\\anaconda3\\envs\\sense2020\\lib\\site-packages (from geemap) (3.3.2)\n",
      "Requirement already satisfied: jinja2>=2.9 in c:\\users\\s1437405\\anaconda3\\envs\\sense2020\\lib\\site-packages (from folium>=0.11.0->geemap) (2.11.2)\n",
      "Requirement already satisfied: numpy in c:\\users\\s1437405\\anaconda3\\envs\\sense2020\\lib\\site-packages (from folium>=0.11.0->geemap) (1.19.2)\n",
      "Collecting branca>=0.3.0\n",
      "  Using cached branca-0.4.1-py3-none-any.whl (24 kB)\n",
      "Requirement already satisfied: requests in c:\\users\\s1437405\\anaconda3\\envs\\sense2020\\lib\\site-packages (from folium>=0.11.0->geemap) (2.24.0)\n",
      "Collecting future\n",
      "  Using cached future-0.18.2.tar.gz (829 kB)\n",
      "Collecting google-cloud-storage\n",
      "  Using cached google_cloud_storage-1.32.0-py2.py3-none-any.whl (92 kB)\n",
      "Collecting google-api-python-client>=1.12.1\n",
      "  Using cached google_api_python_client-1.12.5-py2.py3-none-any.whl (61 kB)\n",
      "Collecting google-auth>=1.4.1\n",
      "  Using cached google_auth-1.22.1-py2.py3-none-any.whl (114 kB)\n",
      "Collecting google-auth-httplib2>=0.0.3\n",
      "  Using cached google_auth_httplib2-0.0.4-py2.py3-none-any.whl (9.1 kB)\n",
      "Collecting httplib2<1dev,>=0.9.2\n",
      "  Using cached httplib2-0.18.1-py3-none-any.whl (95 kB)\n",
      "Collecting httplib2shim\n",
      "  Using cached httplib2shim-0.0.3.tar.gz (17 kB)\n",
      "Requirement already satisfied: six in c:\\users\\s1437405\\anaconda3\\envs\\sense2020\\lib\\site-packages (from earthengine-api>=0.1.230->geemap) (1.15.0)\n",
      "Collecting beautifulsoup4>=4.9.0\n",
      "  Using cached beautifulsoup4-4.9.3-py3-none-any.whl (115 kB)\n",
      "Collecting logzero>=1.5.0\n",
      "  Using cached logzero-1.5.0-py2.py3-none-any.whl (14 kB)\n",
      "Requirement already satisfied: ipywidgets<8,>=7.5.0 in c:\\users\\s1437405\\anaconda3\\envs\\sense2020\\lib\\site-packages (from ipyleaflet>=0.13.3->geemap) (7.5.1)\n",
      "Collecting traittypes<3,>=0.2.1\n",
      "  Using cached traittypes-0.2.1-py2.py3-none-any.whl (8.6 kB)\n",
      "Requirement already satisfied: pandas in c:\\users\\s1437405\\anaconda3\\envs\\sense2020\\lib\\site-packages (from bqplot->geemap) (1.1.3)\n",
      "Requirement already satisfied: traitlets>=4.3.0 in c:\\users\\s1437405\\anaconda3\\envs\\sense2020\\lib\\site-packages (from bqplot->geemap) (5.0.5)\n",
      "Requirement already satisfied: nbconvert<7,>=6.0.0 in c:\\users\\s1437405\\anaconda3\\envs\\sense2020\\lib\\site-packages (from voila->geemap) (6.0.7)\n",
      "Requirement already satisfied: jupyter-client<7,>=6.1.3 in c:\\users\\s1437405\\anaconda3\\envs\\sense2020\\lib\\site-packages (from voila->geemap) (6.1.7)\n",
      "Collecting jupyter-server<2.0.0,>=0.3.0\n",
      "  Using cached jupyter_server-1.0.5-py3-none-any.whl (196 kB)\n",
      "Requirement already satisfied: nbclient<0.6,>=0.4.0 in c:\\users\\s1437405\\anaconda3\\envs\\sense2020\\lib\\site-packages (from voila->geemap) (0.5.0)\n",
      "Collecting ratelim\n",
      "  Using cached ratelim-0.1.6-py2.py3-none-any.whl (4.0 kB)\n",
      "Requirement already satisfied: certifi>=2020.06.20 in c:\\users\\s1437405\\anaconda3\\envs\\sense2020\\lib\\site-packages (from matplotlib->geemap) (2020.6.20)\n",
      "Requirement already satisfied: cycler>=0.10 in c:\\users\\s1437405\\anaconda3\\envs\\sense2020\\lib\\site-packages (from matplotlib->geemap) (0.10.0)\n",
      "Requirement already satisfied: kiwisolver>=1.0.1 in c:\\users\\s1437405\\anaconda3\\envs\\sense2020\\lib\\site-packages (from matplotlib->geemap) (1.2.0)\n",
      "Requirement already satisfied: pyparsing!=2.0.4,!=2.1.2,!=2.1.6,>=2.0.3 in c:\\users\\s1437405\\anaconda3\\envs\\sense2020\\lib\\site-packages (from matplotlib->geemap) (2.4.7)\n",
      "Requirement already satisfied: python-dateutil>=2.1 in c:\\users\\s1437405\\anaconda3\\envs\\sense2020\\lib\\site-packages (from matplotlib->geemap) (2.8.1)\n",
      "Requirement already satisfied: MarkupSafe>=0.23 in c:\\users\\s1437405\\anaconda3\\envs\\sense2020\\lib\\site-packages (from jinja2>=2.9->folium>=0.11.0->geemap) (1.1.1)\n",
      "Requirement already satisfied: chardet<4,>=3.0.2 in c:\\users\\s1437405\\anaconda3\\envs\\sense2020\\lib\\site-packages (from requests->folium>=0.11.0->geemap) (3.0.4)\n",
      "Requirement already satisfied: urllib3!=1.25.0,!=1.25.1,<1.26,>=1.21.1 in c:\\users\\s1437405\\anaconda3\\envs\\sense2020\\lib\\site-packages (from requests->folium>=0.11.0->geemap) (1.25.10)\n",
      "Requirement already satisfied: idna<3,>=2.5 in c:\\users\\s1437405\\anaconda3\\envs\\sense2020\\lib\\site-packages (from requests->folium>=0.11.0->geemap) (2.10)\n",
      "Collecting google-resumable-media<2.0dev,>=1.0.0\n",
      "  Using cached google_resumable_media-1.1.0-py2.py3-none-any.whl (75 kB)\n",
      "Collecting google-cloud-core<2.0dev,>=1.4.1\n",
      "  Using cached google_cloud_core-1.4.3-py2.py3-none-any.whl (27 kB)\n",
      "Collecting uritemplate<4dev,>=3.0.0\n",
      "  Using cached uritemplate-3.0.1-py2.py3-none-any.whl (15 kB)\n",
      "Collecting google-api-core<2dev,>=1.21.0\n",
      "  Using cached google_api_core-1.23.0-py2.py3-none-any.whl (91 kB)\n",
      "Requirement already satisfied: setuptools>=40.3.0 in c:\\users\\s1437405\\anaconda3\\envs\\sense2020\\lib\\site-packages (from google-auth>=1.4.1->earthengine-api>=0.1.230->geemap) (49.6.0.post20201009)\n",
      "Collecting cachetools<5.0,>=2.0.0\n",
      "  Using cached cachetools-4.1.1-py3-none-any.whl (10 kB)\n",
      "Collecting rsa<5,>=3.1.4; python_version >= \"3.5\"\n",
      "  Using cached rsa-4.6-py3-none-any.whl (47 kB)\n",
      "Collecting pyasn1-modules>=0.2.1\n",
      "  Using cached pyasn1_modules-0.2.8-py2.py3-none-any.whl (155 kB)\n",
      "Collecting soupsieve>1.2; python_version >= \"3.0\"\n",
      "  Using cached soupsieve-2.0.1-py3-none-any.whl (32 kB)\n",
      "Requirement already satisfied: colorama; sys_platform == \"win32\" in c:\\users\\s1437405\\anaconda3\\envs\\sense2020\\lib\\site-packages (from logzero>=1.5.0->geeadd>=0.5.1->geemap) (0.4.3)\n",
      "Requirement already satisfied: ipython>=4.0.0; python_version >= \"3.3\" in c:\\users\\s1437405\\anaconda3\\envs\\sense2020\\lib\\site-packages (from ipywidgets<8,>=7.5.0->ipyleaflet>=0.13.3->geemap) (7.18.1)\n",
      "Requirement already satisfied: ipykernel>=4.5.1 in c:\\users\\s1437405\\anaconda3\\envs\\sense2020\\lib\\site-packages (from ipywidgets<8,>=7.5.0->ipyleaflet>=0.13.3->geemap) (5.3.4)\n",
      "Requirement already satisfied: widgetsnbextension~=3.5.0 in c:\\users\\s1437405\\anaconda3\\envs\\sense2020\\lib\\site-packages (from ipywidgets<8,>=7.5.0->ipyleaflet>=0.13.3->geemap) (3.5.1)\n",
      "Requirement already satisfied: nbformat>=4.2.0 in c:\\users\\s1437405\\anaconda3\\envs\\sense2020\\lib\\site-packages (from ipywidgets<8,>=7.5.0->ipyleaflet>=0.13.3->geemap) (5.0.8)\n",
      "Requirement already satisfied: pytz>=2017.2 in c:\\users\\s1437405\\anaconda3\\envs\\sense2020\\lib\\site-packages (from pandas->bqplot->geemap) (2020.1)\n",
      "Requirement already satisfied: ipython-genutils in c:\\users\\s1437405\\anaconda3\\envs\\sense2020\\lib\\site-packages (from traitlets>=4.3.0->bqplot->geemap) (0.2.0)\n",
      "Requirement already satisfied: entrypoints>=0.2.2 in c:\\users\\s1437405\\anaconda3\\envs\\sense2020\\lib\\site-packages (from nbconvert<7,>=6.0.0->voila->geemap) (0.3)\n",
      "Requirement already satisfied: testpath in c:\\users\\s1437405\\anaconda3\\envs\\sense2020\\lib\\site-packages (from nbconvert<7,>=6.0.0->voila->geemap) (0.4.4)\n",
      "Requirement already satisfied: pandocfilters>=1.4.1 in c:\\users\\s1437405\\anaconda3\\envs\\sense2020\\lib\\site-packages (from nbconvert<7,>=6.0.0->voila->geemap) (1.4.2)\n",
      "Requirement already satisfied: defusedxml in c:\\users\\s1437405\\anaconda3\\envs\\sense2020\\lib\\site-packages (from nbconvert<7,>=6.0.0->voila->geemap) (0.6.0)\n",
      "Requirement already satisfied: pygments>=2.4.1 in c:\\users\\s1437405\\anaconda3\\envs\\sense2020\\lib\\site-packages (from nbconvert<7,>=6.0.0->voila->geemap) (2.7.1)\n",
      "Requirement already satisfied: bleach in c:\\users\\s1437405\\anaconda3\\envs\\sense2020\\lib\\site-packages (from nbconvert<7,>=6.0.0->voila->geemap) (3.2.1)\n",
      "Requirement already satisfied: jupyterlab-pygments in c:\\users\\s1437405\\anaconda3\\envs\\sense2020\\lib\\site-packages (from nbconvert<7,>=6.0.0->voila->geemap) (0.1.2)\n",
      "Requirement already satisfied: jupyter-core in c:\\users\\s1437405\\anaconda3\\envs\\sense2020\\lib\\site-packages (from nbconvert<7,>=6.0.0->voila->geemap) (4.6.3)\n",
      "Requirement already satisfied: mistune<2,>=0.8.1 in c:\\users\\s1437405\\anaconda3\\envs\\sense2020\\lib\\site-packages (from nbconvert<7,>=6.0.0->voila->geemap) (0.8.4)\n",
      "Requirement already satisfied: pyzmq>=13 in c:\\users\\s1437405\\anaconda3\\envs\\sense2020\\lib\\site-packages (from jupyter-client<7,>=6.1.3->voila->geemap) (19.0.2)\n",
      "Requirement already satisfied: tornado>=4.1 in c:\\users\\s1437405\\anaconda3\\envs\\sense2020\\lib\\site-packages (from jupyter-client<7,>=6.1.3->voila->geemap) (6.0.4)\n",
      "Requirement already satisfied: terminado>=0.8.3 in c:\\users\\s1437405\\anaconda3\\envs\\sense2020\\lib\\site-packages (from jupyter-server<2.0.0,>=0.3.0->voila->geemap) (0.9.1)\n",
      "Requirement already satisfied: Send2Trash in c:\\users\\s1437405\\anaconda3\\envs\\sense2020\\lib\\site-packages (from jupyter-server<2.0.0,>=0.3.0->voila->geemap) (1.5.0)\n",
      "Requirement already satisfied: pywin32>=1.0; sys_platform == \"win32\" in c:\\users\\s1437405\\anaconda3\\envs\\sense2020\\lib\\site-packages (from jupyter-server<2.0.0,>=0.3.0->voila->geemap) (228)\n",
      "Requirement already satisfied: prometheus-client in c:\\users\\s1437405\\anaconda3\\envs\\sense2020\\lib\\site-packages (from jupyter-server<2.0.0,>=0.3.0->voila->geemap) (0.8.0)\n",
      "Requirement already satisfied: async-generator in c:\\users\\s1437405\\anaconda3\\envs\\sense2020\\lib\\site-packages (from nbclient<0.6,>=0.4.0->voila->geemap) (1.10)\n",
      "Requirement already satisfied: nest-asyncio in c:\\users\\s1437405\\anaconda3\\envs\\sense2020\\lib\\site-packages (from nbclient<0.6,>=0.4.0->voila->geemap) (1.4.1)\n",
      "Requirement already satisfied: decorator in c:\\users\\s1437405\\anaconda3\\envs\\sense2020\\lib\\site-packages (from ratelim->geocoder->geemap) (4.4.2)\n",
      "Collecting google-crc32c<2.0dev,>=1.0; python_version >= \"3.5\"\n",
      "  Using cached google-crc32c-1.0.0.tar.gz (10 kB)\n",
      "  Installing build dependencies: started\n",
      "  Installing build dependencies: finished with status 'done'\n",
      "  Getting requirements to build wheel: started\n",
      "  Getting requirements to build wheel: finished with status 'done'\n",
      "  Installing backend dependencies: started\n",
      "  Installing backend dependencies: finished with status 'done'\n",
      "    Preparing wheel metadata: started\n",
      "    Preparing wheel metadata: finished with status 'done'\n",
      "Collecting googleapis-common-protos<2.0dev,>=1.6.0\n",
      "  Downloading googleapis_common_protos-1.52.0-py2.py3-none-any.whl (100 kB)\n",
      "Collecting protobuf>=3.12.0\n",
      "  Downloading protobuf-3.13.0-py2.py3-none-any.whl (438 kB)\n",
      "Collecting pyasn1>=0.1.3\n",
      "  Downloading pyasn1-0.4.8-py2.py3-none-any.whl (77 kB)\n",
      "Requirement already satisfied: backcall in c:\\users\\s1437405\\anaconda3\\envs\\sense2020\\lib\\site-packages (from ipython>=4.0.0; python_version >= \"3.3\"->ipywidgets<8,>=7.5.0->ipyleaflet>=0.13.3->geemap) (0.2.0)\n",
      "Requirement already satisfied: pickleshare in c:\\users\\s1437405\\anaconda3\\envs\\sense2020\\lib\\site-packages (from ipython>=4.0.0; python_version >= \"3.3\"->ipywidgets<8,>=7.5.0->ipyleaflet>=0.13.3->geemap) (0.7.5)\n",
      "Requirement already satisfied: prompt-toolkit!=3.0.0,!=3.0.1,<3.1.0,>=2.0.0 in c:\\users\\s1437405\\anaconda3\\envs\\sense2020\\lib\\site-packages (from ipython>=4.0.0; python_version >= \"3.3\"->ipywidgets<8,>=7.5.0->ipyleaflet>=0.13.3->geemap) (3.0.8)\n",
      "Requirement already satisfied: jedi>=0.10 in c:\\users\\s1437405\\anaconda3\\envs\\sense2020\\lib\\site-packages (from ipython>=4.0.0; python_version >= \"3.3\"->ipywidgets<8,>=7.5.0->ipyleaflet>=0.13.3->geemap) (0.17.2)\n",
      "Requirement already satisfied: notebook>=4.4.1 in c:\\users\\s1437405\\anaconda3\\envs\\sense2020\\lib\\site-packages (from widgetsnbextension~=3.5.0->ipywidgets<8,>=7.5.0->ipyleaflet>=0.13.3->geemap) (6.1.4)\n",
      "Requirement already satisfied: jsonschema!=2.5.0,>=2.4 in c:\\users\\s1437405\\anaconda3\\envs\\sense2020\\lib\\site-packages (from nbformat>=4.2.0->ipywidgets<8,>=7.5.0->ipyleaflet>=0.13.3->geemap) (3.2.0)\n",
      "Requirement already satisfied: webencodings in c:\\users\\s1437405\\anaconda3\\envs\\sense2020\\lib\\site-packages (from bleach->nbconvert<7,>=6.0.0->voila->geemap) (0.5.1)\n",
      "Requirement already satisfied: packaging in c:\\users\\s1437405\\anaconda3\\envs\\sense2020\\lib\\site-packages (from bleach->nbconvert<7,>=6.0.0->voila->geemap) (20.4)\n",
      "Requirement already satisfied: pywinpty>=0.5; os_name == \"nt\" in c:\\users\\s1437405\\anaconda3\\envs\\sense2020\\lib\\site-packages (from terminado>=0.8.3->jupyter-server<2.0.0,>=0.3.0->voila->geemap) (0.5.7)\n",
      "Requirement already satisfied: cffi>=1.0.0 in c:\\users\\s1437405\\anaconda3\\envs\\sense2020\\lib\\site-packages (from google-crc32c<2.0dev,>=1.0; python_version >= \"3.5\"->google-resumable-media<2.0dev,>=1.0.0->google-cloud-storage->earthengine-api>=0.1.230->geemap) (1.14.3)\n",
      "Requirement already satisfied: wcwidth in c:\\users\\s1437405\\anaconda3\\envs\\sense2020\\lib\\site-packages (from prompt-toolkit!=3.0.0,!=3.0.1,<3.1.0,>=2.0.0->ipython>=4.0.0; python_version >= \"3.3\"->ipywidgets<8,>=7.5.0->ipyleaflet>=0.13.3->geemap) (0.2.5)\n",
      "Requirement already satisfied: parso<0.8.0,>=0.7.0 in c:\\users\\s1437405\\anaconda3\\envs\\sense2020\\lib\\site-packages (from jedi>=0.10->ipython>=4.0.0; python_version >= \"3.3\"->ipywidgets<8,>=7.5.0->ipyleaflet>=0.13.3->geemap) (0.7.1)\n",
      "Requirement already satisfied: argon2-cffi in c:\\users\\s1437405\\anaconda3\\envs\\sense2020\\lib\\site-packages (from notebook>=4.4.1->widgetsnbextension~=3.5.0->ipywidgets<8,>=7.5.0->ipyleaflet>=0.13.3->geemap) (20.1.0)\n",
      "Requirement already satisfied: attrs>=17.4.0 in c:\\users\\s1437405\\anaconda3\\envs\\sense2020\\lib\\site-packages (from jsonschema!=2.5.0,>=2.4->nbformat>=4.2.0->ipywidgets<8,>=7.5.0->ipyleaflet>=0.13.3->geemap) (20.2.0)\n",
      "Requirement already satisfied: pyrsistent>=0.14.0 in c:\\users\\s1437405\\anaconda3\\envs\\sense2020\\lib\\site-packages (from jsonschema!=2.5.0,>=2.4->nbformat>=4.2.0->ipywidgets<8,>=7.5.0->ipyleaflet>=0.13.3->geemap) (0.17.3)\n",
      "Requirement already satisfied: pycparser in c:\\users\\s1437405\\anaconda3\\envs\\sense2020\\lib\\site-packages (from cffi>=1.0.0->google-crc32c<2.0dev,>=1.0; python_version >= \"3.5\"->google-resumable-media<2.0dev,>=1.0.0->google-cloud-storage->earthengine-api>=0.1.230->geemap) (2.20)\n",
      "Building wheels for collected packages: ipynb-py-convert, earthengine-api, future, httplib2shim, google-crc32c\n",
      "  Building wheel for ipynb-py-convert (setup.py): started\n",
      "  Building wheel for ipynb-py-convert (setup.py): finished with status 'done'\n",
      "  Created wheel for ipynb-py-convert: filename=ipynb_py_convert-0.4.6-py3-none-any.whl size=4629 sha256=599337fc06bd9f1c19bef924250ae526821bac5c1022035717dd802b27508566\n",
      "  Stored in directory: c:\\users\\s1437405\\appdata\\local\\pip\\cache\\wheels\\49\\ee\\0a\\ff1f946e7969e39aec10a28d84692859084219f27d2ae35119\n",
      "  Building wheel for earthengine-api (setup.py): started\n",
      "  Building wheel for earthengine-api (setup.py): finished with status 'done'\n",
      "  Created wheel for earthengine-api: filename=earthengine_api-0.1.239-py3-none-any.whl size=184987 sha256=c5acde8962f75a10aef39ba86c0976655917eb3d0f6dc2bc5f5d4b0868cf458f\n",
      "  Stored in directory: c:\\users\\s1437405\\appdata\\local\\pip\\cache\\wheels\\57\\8f\\e2\\a17120e20498f6a7d96efaf20e94182100a176d759f577fc1c\n",
      "  Building wheel for future (setup.py): started\n",
      "  Building wheel for future (setup.py): finished with status 'done'\n",
      "  Created wheel for future: filename=future-0.18.2-py3-none-any.whl size=491062 sha256=59cd9ff2475c85ecb499bd296530ada8ec785c466cb71138f693474e75ce3a61\n",
      "  Stored in directory: c:\\users\\s1437405\\appdata\\local\\pip\\cache\\wheels\\8e\\70\\28\\3d6ccd6e315f65f245da085482a2e1c7d14b90b30f239e2cf4\n",
      "  Building wheel for httplib2shim (setup.py): started\n",
      "  Building wheel for httplib2shim (setup.py): finished with status 'done'\n",
      "  Created wheel for httplib2shim: filename=httplib2shim-0.0.3-py2.py3-none-any.whl size=18062 sha256=20f031b09e6f8a0f32aaa9b9f5ac263f88d7a07a67a53d762110a3f7afef75c2\n",
      "  Stored in directory: c:\\users\\s1437405\\appdata\\local\\pip\\cache\\wheels\\04\\5d\\b9\\a746c136fae5811cb2d30d8112b0f72ba40e24d22885bbe7c7\n",
      "  Building wheel for google-crc32c (PEP 517): started\n",
      "  Building wheel for google-crc32c (PEP 517): finished with status 'done'\n",
      "  Created wheel for google-crc32c: filename=google_crc32c-1.0.0-py3-none-any.whl size=9922 sha256=fec18b68fc5c6e251e75c37b0cee18937b432435bab907be922073c29430a60a\n",
      "  Stored in directory: c:\\users\\s1437405\\appdata\\local\\pip\\cache\\wheels\\80\\8c\\fa\\7a4feadbb9c2aa7bada4831f00fdcb58fe0d5efc3ebb5d7fd0\n",
      "Successfully built ipynb-py-convert earthengine-api future httplib2shim google-crc32c\n",
      "Installing collected packages: branca, folium, ipynb-py-convert, future, google-crc32c, google-resumable-media, protobuf, googleapis-common-protos, cachetools, pyasn1, rsa, pyasn1-modules, google-auth, google-api-core, google-cloud-core, google-cloud-storage, httplib2, google-auth-httplib2, uritemplate, google-api-python-client, httplib2shim, earthengine-api, soupsieve, beautifulsoup4, logzero, geeadd, traittypes, ipyleaflet, bqplot, ipyfilechooser, ipytree, mss, colour, click, jupyter-server, voila, ffmpeg-python, ratelim, geocoder, geemap\n",
      "Successfully installed beautifulsoup4-4.9.3 bqplot-0.12.18 branca-0.4.1 cachetools-4.1.1 click-7.1.2 colour-0.1.5 earthengine-api-0.1.239 ffmpeg-python-0.2.0 folium-0.11.0 future-0.18.2 geeadd-0.5.2 geemap-0.8.0 geocoder-1.38.1 google-api-core-1.23.0 google-api-python-client-1.12.5 google-auth-1.22.1 google-auth-httplib2-0.0.4 google-cloud-core-1.4.3 google-cloud-storage-1.32.0 google-crc32c-1.0.0 google-resumable-media-1.1.0 googleapis-common-protos-1.52.0 httplib2-0.18.1 httplib2shim-0.0.3 ipyfilechooser-0.4.0 ipyleaflet-0.13.3 ipynb-py-convert-0.4.6 ipytree-0.1.8 jupyter-server-1.0.5 logzero-1.5.0 mss-6.0.0 protobuf-3.13.0 pyasn1-0.4.8 pyasn1-modules-0.2.8 ratelim-0.1.6 rsa-4.6 soupsieve-2.0.1 traittypes-0.2.1 uritemplate-3.0.1 voila-0.2.4\n"
     ]
    }
   ],
   "source": [
    "!pip install geemap\n",
    "import geemap\n",
    "import os"
   ]
  },
  {
   "cell_type": "markdown",
   "metadata": {},
   "source": [
    "## Update the geemap package\n",
    "\n",
    "If you run into errors with this notebook, please uncomment the line below to update the [geemap](https://github.com/giswqs/geemap#installation) package to the latest version from GitHub. \n",
    "Restart the Kernel (Menu -> Kernel -> Restart) to take effect."
   ]
  },
  {
   "cell_type": "code",
   "execution_count": 4,
   "metadata": {},
   "outputs": [
    {
     "name": "stdout",
     "output_type": "stream",
     "text": [
      "Downloading https://github.com/giswqs/geemap/archive/master.zip ...\n",
      "Unzipping geemap-master.zip ...\n",
      "Data downloaded to: C:\\Users\\s1437405\\Downloads\\geemap-master\n",
      "\n",
      "Please comment out 'geemap.update_package()' and restart the kernel to take effect:\n",
      "Jupyter menu -> Kernel -> Restart & Clear Output\n"
     ]
    }
   ],
   "source": [
    "geemap.update_package()"
   ]
  },
  {
   "cell_type": "markdown",
   "metadata": {},
   "source": [
    "## Add animated text to an existing GIF\n",
    "\n",
    "You can download this GIF example from [here](https://github.com/giswqs/geemap/blob/master/examples/data/animation.gif). You can also create GIF images from Earth Engine data using this amazing [LT-GEE Time Series Animator](https://emaprlab.users.earthengine.app/view/lt-gee-time-series-animator), which was created by [Justin Braaten](https://github.com/jdbcode)."
   ]
  },
  {
   "cell_type": "code",
   "execution_count": 14,
   "metadata": {},
   "outputs": [],
   "source": [
    "in_gif = os.path.abspath('C:/Users/s1437405/Documents/SENSE_EdinTraining/SENSE_2020_Python-master/v2_AnnualAverageNDVI20002020.gif')\n",
    "out_gif = os.path.abspath('C:/Users/s1437405/Documents/SENSE_EdinTraining/SENSE_2020_Python-master/v5_AnnualAverageNDVI20002020.gif')"
   ]
  },
  {
   "cell_type": "code",
   "execution_count": 15,
   "metadata": {},
   "outputs": [
    {
     "data": {
      "application/vnd.jupyter.widget-view+json": {
       "model_id": "5907475d455047ed97ece496c4d31408",
       "version_major": 2,
       "version_minor": 0
      },
      "text/plain": [
       "Output()"
      ]
     },
     "metadata": {},
     "output_type": "display_data"
    }
   ],
   "source": [
    "geemap.show_image(in_gif)"
   ]
  },
  {
   "cell_type": "markdown",
   "metadata": {},
   "source": [
    "### Add animated text to GIF"
   ]
  },
  {
   "cell_type": "code",
   "execution_count": 16,
   "metadata": {},
   "outputs": [],
   "source": [
    "geemap.add_text_to_gif(in_gif, out_gif, xy=('5%', '5%'), text_sequence=[2000,2001,2002,2003,2004,2005,2006,2007,2008,2008,2009,2010,2011,2012,2013,2014,2015,2016,2017,2018,2019,2020], font_size=30, font_color='#ffffff', duration=250)"
   ]
  },
  {
   "cell_type": "code",
   "execution_count": 17,
   "metadata": {},
   "outputs": [
    {
     "data": {
      "application/vnd.jupyter.widget-view+json": {
       "model_id": "7ccfee0f681e4193b40a4c9a586ab40b",
       "version_major": 2,
       "version_minor": 0
      },
      "text/plain": [
       "Output()"
      ]
     },
     "metadata": {},
     "output_type": "display_data"
    }
   ],
   "source": [
    "geemap.show_image(out_gif)"
   ]
  }
 ],
 "metadata": {
  "hide_input": false,
  "kernelspec": {
   "display_name": "Python 3",
   "language": "python",
   "name": "python3"
  },
  "language_info": {
   "codemirror_mode": {
    "name": "ipython",
    "version": 3
   },
   "file_extension": ".py",
   "mimetype": "text/x-python",
   "name": "python",
   "nbconvert_exporter": "python",
   "pygments_lexer": "ipython3",
   "version": "3.8.6"
  },
  "toc": {
   "base_numbering": 1,
   "nav_menu": {},
   "number_sections": true,
   "sideBar": true,
   "skip_h1_title": true,
   "title_cell": "Table of Contents",
   "title_sidebar": "Table of Contents",
   "toc_cell": false,
   "toc_position": {},
   "toc_section_display": true,
   "toc_window_display": true
  },
  "varInspector": {
   "cols": {
    "lenName": 16,
    "lenType": 16,
    "lenVar": 40
   },
   "kernels_config": {
    "python": {
     "delete_cmd_postfix": "",
     "delete_cmd_prefix": "del ",
     "library": "var_list.py",
     "varRefreshCmd": "print(var_dic_list())"
    },
    "r": {
     "delete_cmd_postfix": ") ",
     "delete_cmd_prefix": "rm(",
     "library": "var_list.r",
     "varRefreshCmd": "cat(var_dic_list()) "
    }
   },
   "types_to_exclude": [
    "module",
    "function",
    "builtin_function_or_method",
    "instance",
    "_Feature"
   ],
   "window_display": false
  }
 },
 "nbformat": 4,
 "nbformat_minor": 4
}
