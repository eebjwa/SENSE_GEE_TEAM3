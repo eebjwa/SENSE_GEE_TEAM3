{
  "nbformat": 4,
  "nbformat_minor": 0,
  "metadata": {
    "colab": {
      "name": "SENSE_2020_W1_Group 3_SE_EK",
      "provenance": [],
      "collapsed_sections": [],
      "authorship_tag": "ABX9TyPZOjhxcCgS7uxonFxnFy2U",
      "include_colab_link": true
    },
    "kernelspec": {
      "name": "python3",
      "display_name": "Python 3"
    }
  },
  "cells": [
    {
      "cell_type": "markdown",
      "metadata": {
        "id": "view-in-github",
        "colab_type": "text"
      },
      "source": [
        "<a href=\"https://colab.research.google.com/github/eebjwa/SENSE_GEE_TEAM3/blob/main/SENSE_2020_W1_Group_3_SE_EK_NEW.ipynb\" target=\"_parent\"><img src=\"https://colab.research.google.com/assets/colab-badge.svg\" alt=\"Open In Colab\"/></a>"
      ]
    },
    {
      "cell_type": "markdown",
      "metadata": {
        "id": "FCK7lMsVZG4S"
      },
      "source": [
        "# **Project- Group 3**\n",
        "\n",
        "Aim: Look at land use changes by looking at changes in vegetation cover"
      ]
    },
    {
      "cell_type": "markdown",
      "metadata": {
        "id": "qOqlswCoZnQh"
      },
      "source": [
        "Import API and authenticate"
      ]
    },
    {
      "cell_type": "code",
      "metadata": {
        "id": "DRVcGDiPZFdv",
        "outputId": "5fac3008-ee0d-4803-99a8-c37e48ae2350",
        "colab": {
          "base_uri": "https://localhost:8080/",
          "height": 176
        }
      },
      "source": [
        "import ee\n",
        "# Trigger the authentication flow.\n",
        "ee.Authenticate()\n",
        "\n",
        "# Initialize the library.\n",
        "ee.Initialize()"
      ],
      "execution_count": 12,
      "outputs": [
        {
          "output_type": "stream",
          "text": [
            "To authorize access needed by Earth Engine, open the following URL in a web browser and follow the instructions. If the web browser does not start automatically, please manually browse the URL below.\n",
            "\n",
            "    https://accounts.google.com/o/oauth2/auth?client_id=517222506229-vsmmajv00ul0bs7p89v5m89qs8eb9359.apps.googleusercontent.com&scope=https%3A%2F%2Fwww.googleapis.com%2Fauth%2Fearthengine+https%3A%2F%2Fwww.googleapis.com%2Fauth%2Fdevstorage.full_control&redirect_uri=urn%3Aietf%3Awg%3Aoauth%3A2.0%3Aoob&response_type=code&code_challenge=I0gkluukxUQu7ixcvxpmV_Hr5YR1PzC2aTltcQ96eoE&code_challenge_method=S256\n",
            "\n",
            "The authorization workflow will generate a code, which you should paste in the box below. \n",
            "Enter verification code: 4/1AfDhmrhs10Lje2XZTkFtggFe5jO71rUHqMW55XtBSSoiG_sz0BH898qKzfg\n",
            "\n",
            "Successfully saved authorization token.\n"
          ],
          "name": "stdout"
        }
      ]
    },
    {
      "cell_type": "markdown",
      "metadata": {
        "id": "YmCGQzgcqcs1"
      },
      "source": [
        "Load an image\n",
        "\n",
        "*   Set the bounds of the polygons for zoomed in and zoomed out\n",
        "*   filter images by year\n",
        "*   List item\n",
        "\n",
        "\n",
        "\n",
        "\n",
        "\n"
      ]
    },
    {
      "cell_type": "code",
      "metadata": {
        "id": "kKBeRY9V1uLn"
      },
      "source": [
        "zoomed_out =  ee.Geometry.Polygon(\n",
        "        [[[-74.60668900677238, 20.088333497505946],\n",
        "          [-74.60668900677238, 17.687361057873034],\n",
        "          [-68.11376908489738, 17.687361057873034],\n",
        "          [-68.11376908489738, 20.088333497505946]]])\n",
        "zoomed_in =  ee.Geometry.Polygon(\n",
        "        [[[-71.7976970344606, 19.335441167371748],\n",
        "          [-71.7976970344606, 19.19316176101097],\n",
        "          [-71.60268971024185, 19.19316176101097],\n",
        "          [-71.60268971024185, 19.335441167371748]]])\n",
        "\n",
        "collection = ee.ImageCollection('MODIS/006/MOD44B').filterBounds(zoomed_out)\n",
        "veg2019 = ee.ImageCollection('MODIS/006/MOD44B').filterBounds(zoomed_out).filterDate('2019-01-01', '2019-12-31').first()\n",
        "veg2018 = ee.ImageCollection('MODIS/006/MOD44B').filterBounds(zoomed_out).filterDate('2018-01-01', '2018-12-31').first()\n",
        "veg2017 = ee.ImageCollection('MODIS/006/MOD44B').filterBounds(zoomed_out).filterDate('2017-01-01', '2017-12-31').first()\n",
        "veg2016 = ee.ImageCollection('MODIS/006/MOD44B').filterBounds(zoomed_out).filterDate('2016-01-01', '2016-12-31').first()\n",
        "veg2015 = ee.ImageCollection('MODIS/006/MOD44B').filterBounds(zoomed_out).filterDate('2015-01-01', '2015-12-31').first()\n",
        "veg2014 = ee.ImageCollection('MODIS/006/MOD44B').filterBounds(zoomed_out).filterDate('2014-01-01', '2014-12-31').first()\n",
        "veg2013 = ee.ImageCollection('MODIS/006/MOD44B').filterBounds(zoomed_out).filterDate('2013-01-01', '2013-12-31').first()\n",
        "veg2012 = ee.ImageCollection('MODIS/006/MOD44B').filterBounds(zoomed_out).filterDate('2012-01-01', '2012-12-31').first()\n",
        "veg2011 = ee.ImageCollection('MODIS/006/MOD44B').filterBounds(zoomed_out).filterDate('2011-01-01', '2011-12-31').first()\n",
        "veg2010 = ee.ImageCollection('MODIS/006/MOD44B').filterBounds(zoomed_out).filterDate('2010-01-01', '2010-12-31').first()\n",
        "veg2009 = ee.ImageCollection('MODIS/006/MOD44B').filterBounds(zoomed_out).filterDate('2009-01-01', '2009-12-31').first()\n",
        "veg2008 = ee.ImageCollection('MODIS/006/MOD44B').filterBounds(zoomed_out).filterDate('2008-01-01', '2008-12-31').first()\n",
        "veg2007 = ee.ImageCollection('MODIS/006/MOD44B').filterBounds(zoomed_out).filterDate('2007-01-01', '2007-12-31').first()\n",
        "veg2006 = ee.ImageCollection('MODIS/006/MOD44B').filterBounds(zoomed_out).filterDate('2006-01-01', '2006-12-31').first()\n",
        "veg2005 = ee.ImageCollection('MODIS/006/MOD44B').filterBounds(zoomed_out).filterDate('2005-01-01', '2005-12-31').first()\n",
        "veg2004 = ee.ImageCollection('MODIS/006/MOD44B').filterBounds(zoomed_out).filterDate('2004-01-01', '2004-12-31').first()\n",
        "veg2003 = ee.ImageCollection('MODIS/006/MOD44B').filterBounds(zoomed_out).filterDate('2003-01-01', '2003-12-31').first()\n",
        "veg2002 = ee.ImageCollection('MODIS/006/MOD44B').filterBounds(zoomed_out).filterDate('2002-01-01', '2002-12-31').first()\n",
        "veg2001 = ee.ImageCollection('MODIS/006/MOD44B').filterBounds(zoomed_out).filterDate('2001-01-01', '2001-12-31').first()\n",
        "veg2000 = ee.ImageCollection('MODIS/006/MOD44B').filterBounds(zoomed_out).filterDate('2000-01-01', '2000-12-31').first()\n"
      ],
      "execution_count": 13,
      "outputs": []
    },
    {
      "cell_type": "code",
      "metadata": {
        "id": "wiqeU-YoxKGW",
        "outputId": "0d5f6837-8913-40be-909b-1846d642138c",
        "colab": {
          "base_uri": "https://localhost:8080/",
          "height": 609
        }
      },
      "source": [
        "import folium\n",
        "!pip install geehydro # Life saver for plotting GEE stuff with Python!\n",
        "import geehydro"
      ],
      "execution_count": 14,
      "outputs": [
        {
          "output_type": "stream",
          "text": [
            "Requirement already satisfied: geehydro in /usr/local/lib/python3.6/dist-packages (0.2.0)\n",
            "Requirement already satisfied: click in /usr/local/lib/python3.6/dist-packages (from geehydro) (7.1.2)\n",
            "Requirement already satisfied: earthengine-api in /usr/local/lib/python3.6/dist-packages (from geehydro) (0.1.236)\n",
            "Requirement already satisfied: folium in /usr/local/lib/python3.6/dist-packages (from geehydro) (0.8.3)\n",
            "Requirement already satisfied: google-auth-httplib2>=0.0.3 in /usr/local/lib/python3.6/dist-packages (from earthengine-api->geehydro) (0.0.4)\n",
            "Requirement already satisfied: google-auth>=1.4.1 in /usr/local/lib/python3.6/dist-packages (from earthengine-api->geehydro) (1.17.2)\n",
            "Requirement already satisfied: httplib2<1dev,>=0.9.2 in /usr/local/lib/python3.6/dist-packages (from earthengine-api->geehydro) (0.17.4)\n",
            "Requirement already satisfied: google-cloud-storage in /usr/local/lib/python3.6/dist-packages (from earthengine-api->geehydro) (1.18.1)\n",
            "Requirement already satisfied: future in /usr/local/lib/python3.6/dist-packages (from earthengine-api->geehydro) (0.16.0)\n",
            "Requirement already satisfied: httplib2shim in /usr/local/lib/python3.6/dist-packages (from earthengine-api->geehydro) (0.0.3)\n",
            "Requirement already satisfied: six in /usr/local/lib/python3.6/dist-packages (from earthengine-api->geehydro) (1.15.0)\n",
            "Requirement already satisfied: google-api-python-client in /usr/local/lib/python3.6/dist-packages (from earthengine-api->geehydro) (1.7.12)\n",
            "Requirement already satisfied: jinja2 in /usr/local/lib/python3.6/dist-packages (from folium->geehydro) (2.11.2)\n",
            "Requirement already satisfied: branca>=0.3.0 in /usr/local/lib/python3.6/dist-packages (from folium->geehydro) (0.4.1)\n",
            "Requirement already satisfied: requests in /usr/local/lib/python3.6/dist-packages (from folium->geehydro) (2.23.0)\n",
            "Requirement already satisfied: numpy in /usr/local/lib/python3.6/dist-packages (from folium->geehydro) (1.18.5)\n",
            "Requirement already satisfied: pyasn1-modules>=0.2.1 in /usr/local/lib/python3.6/dist-packages (from google-auth>=1.4.1->earthengine-api->geehydro) (0.2.8)\n",
            "Requirement already satisfied: cachetools<5.0,>=2.0.0 in /usr/local/lib/python3.6/dist-packages (from google-auth>=1.4.1->earthengine-api->geehydro) (4.1.1)\n",
            "Requirement already satisfied: setuptools>=40.3.0 in /usr/local/lib/python3.6/dist-packages (from google-auth>=1.4.1->earthengine-api->geehydro) (50.3.0)\n",
            "Requirement already satisfied: rsa<5,>=3.1.4; python_version >= \"3\" in /usr/local/lib/python3.6/dist-packages (from google-auth>=1.4.1->earthengine-api->geehydro) (4.6)\n",
            "Requirement already satisfied: google-resumable-media<0.5.0dev,>=0.3.1 in /usr/local/lib/python3.6/dist-packages (from google-cloud-storage->earthengine-api->geehydro) (0.4.1)\n",
            "Requirement already satisfied: google-cloud-core<2.0dev,>=1.0.0 in /usr/local/lib/python3.6/dist-packages (from google-cloud-storage->earthengine-api->geehydro) (1.0.3)\n",
            "Requirement already satisfied: certifi in /usr/local/lib/python3.6/dist-packages (from httplib2shim->earthengine-api->geehydro) (2020.6.20)\n",
            "Requirement already satisfied: urllib3 in /usr/local/lib/python3.6/dist-packages (from httplib2shim->earthengine-api->geehydro) (1.24.3)\n",
            "Requirement already satisfied: uritemplate<4dev,>=3.0.0 in /usr/local/lib/python3.6/dist-packages (from google-api-python-client->earthengine-api->geehydro) (3.0.1)\n",
            "Requirement already satisfied: MarkupSafe>=0.23 in /usr/local/lib/python3.6/dist-packages (from jinja2->folium->geehydro) (1.1.1)\n",
            "Requirement already satisfied: chardet<4,>=3.0.2 in /usr/local/lib/python3.6/dist-packages (from requests->folium->geehydro) (3.0.4)\n",
            "Requirement already satisfied: idna<3,>=2.5 in /usr/local/lib/python3.6/dist-packages (from requests->folium->geehydro) (2.10)\n",
            "Requirement already satisfied: pyasn1<0.5.0,>=0.4.6 in /usr/local/lib/python3.6/dist-packages (from pyasn1-modules>=0.2.1->google-auth>=1.4.1->earthengine-api->geehydro) (0.4.8)\n",
            "Requirement already satisfied: google-api-core<2.0.0dev,>=1.14.0 in /usr/local/lib/python3.6/dist-packages (from google-cloud-core<2.0dev,>=1.0.0->google-cloud-storage->earthengine-api->geehydro) (1.16.0)\n",
            "Requirement already satisfied: protobuf>=3.4.0 in /usr/local/lib/python3.6/dist-packages (from google-api-core<2.0.0dev,>=1.14.0->google-cloud-core<2.0dev,>=1.0.0->google-cloud-storage->earthengine-api->geehydro) (3.12.4)\n",
            "Requirement already satisfied: pytz in /usr/local/lib/python3.6/dist-packages (from google-api-core<2.0.0dev,>=1.14.0->google-cloud-core<2.0dev,>=1.0.0->google-cloud-storage->earthengine-api->geehydro) (2018.9)\n",
            "Requirement already satisfied: googleapis-common-protos<2.0dev,>=1.6.0 in /usr/local/lib/python3.6/dist-packages (from google-api-core<2.0.0dev,>=1.14.0->google-cloud-core<2.0dev,>=1.0.0->google-cloud-storage->earthengine-api->geehydro) (1.52.0)\n"
          ],
          "name": "stdout"
        }
      ]
    },
    {
      "cell_type": "code",
      "metadata": {
        "id": "N9qJQHDyZjJq",
        "outputId": "bf37a655-c5a9-409b-f6e7-642908cfc0df",
        "colab": {
          "base_uri": "https://localhost:8080/",
          "height": 712
        }
      },
      "source": [
        "# Use folium to visualize the imagery.\n",
        "map = folium.Map(location = [18.999768, -71.374124], zoom_start=8)\n",
        "\n",
        "map.addLayer(veg2019, {'gain':2}, '2019')\n",
        "map.addLayer(veg2018, {'gain':2},'2018')\n",
        "map.addLayer(veg2017, {'gain':2}, '2017')\n",
        "map.addLayer(veg2016, {'gain':2}, '2016')\n",
        "map.addLayer(veg2015, {'gain':2}, '2015')\n",
        "map.addLayer(veg2014, {'gain':2}, '2014')\n",
        "map.addLayer(veg2013, {'gain':2}, '2013')\n",
        "map.addLayer(veg2012, {'gain':2}, '2012')\n",
        "map.addLayer(veg2011, {'gain':2}, '2011')\n",
        "map.addLayer(veg2010, {'gain':2}, '2010')\n",
        "map.addLayer(veg2009, {'gain':2}, '2009')\n",
        "map.addLayer(veg2008, {'gain':2}, '2008')\n",
        "map.addLayer(veg2007, {'gain':2}, '2007')\n",
        "map.addLayer(veg2006, {'gain':2}, '2006')\n",
        "map.addLayer(veg2005, {'gain':2}, '2005')\n",
        "map.addLayer(veg2004, {'gain':2}, '2004')\n",
        "map.addLayer(veg2003, {'gain':2}, '2003')\n",
        "map.addLayer(veg2002, {'gain':2}, '2002')\n",
        "map.addLayer(veg2001, {'gain':2}, '2001')\n",
        "map.addLayer(veg2000, {'gain':2},'2000')\n",
        "\n",
        "#Define individual ROIs for Haiti and DR \n",
        "Haiti_roi = ee.FeatureCollection('USDOS/LSIB_SIMPLE/2017').filter(ee.Filter.eq('country_na', 'Haiti'))\n",
        "DR_roi = ee.FeatureCollection('USDOS/LSIB_SIMPLE/2017').filter(ee.Filter.eq('country_na', 'Dominican Republic'))\n",
        "\n",
        "#Clip classified image to each country (Haiti and DR)\n",
        "Haiti_veg2019 = veg2019.clip(Haiti_roi)\n",
        "DR_veg2019 = veg2019.clip(DR_roi)\n",
        "\n",
        "###NEW CODE TO ADD IN###\n",
        "#separate out the data for Haiti and DR\n",
        "map.addLayer(Haiti_veg2019, {'gain':2,}, 'Haiti 2019')\n",
        "map.addLayer(DR_veg2019, {'gain':2,}, 'DR 2019')\n",
        "\n",
        "folium.LayerControl().add_to(map)\n",
        "map"
      ],
      "execution_count": 15,
      "outputs": [
        {
          "output_type": "execute_result",
          "data": {
            "text/html": [
              "<div style=\"width:100%;\"><div style=\"position:relative;width:100%;height:0;padding-bottom:60%;\"><span style=\"color:#565656\">Make this Notebook Trusted to load map: File -> Trust Notebook</span><iframe src=\"about:blank\" style=\"position:absolute;width:100%;height:100%;left:0;top:0;border:none !important;\" data-html=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 onload=\"this.contentDocument.open();this.contentDocument.write(atob(this.getAttribute('data-html')));this.contentDocument.close();\" allowfullscreen webkitallowfullscreen mozallowfullscreen></iframe></div></div>"
            ],
            "text/plain": [
              "<folium.folium.Map at 0x7fabc48f8e80>"
            ]
          },
          "metadata": {
            "tags": []
          },
          "execution_count": 15
        }
      ]
    },
    {
      "cell_type": "markdown",
      "metadata": {
        "id": "NCXN54mX4T73"
      },
      "source": [
        "Time series analysis"
      ]
    },
    {
      "cell_type": "markdown",
      "metadata": {
        "id": "uX76tj30dzyo"
      },
      "source": [
        "Ignore this part"
      ]
    },
    {
      "cell_type": "code",
      "metadata": {
        "id": "Tz7s8hPqEKTn",
        "outputId": "9c909381-0342-4060-f5b2-a192de6166cc",
        "colab": {
          "base_uri": "https://localhost:8080/",
          "height": 201
        }
      },
      "source": [
        "from IPython.display import Image\n",
        "collection = ee.ImageCollection('MODIS/006/MOD44B').filterBounds(zoomed_out)\n",
        "ptc=collection.open(\"Percent_Tree_cover\")"
      ],
      "execution_count": null,
      "outputs": [
        {
          "output_type": "error",
          "ename": "AttributeError",
          "evalue": "ignored",
          "traceback": [
            "\u001b[0;31m---------------------------------------------------------------------------\u001b[0m",
            "\u001b[0;31mAttributeError\u001b[0m                            Traceback (most recent call last)",
            "\u001b[0;32m<ipython-input-10-c913ac01068b>\u001b[0m in \u001b[0;36m<module>\u001b[0;34m()\u001b[0m\n\u001b[1;32m      1\u001b[0m \u001b[0;32mfrom\u001b[0m \u001b[0mIPython\u001b[0m\u001b[0;34m.\u001b[0m\u001b[0mdisplay\u001b[0m \u001b[0;32mimport\u001b[0m \u001b[0mImage\u001b[0m\u001b[0;34m\u001b[0m\u001b[0;34m\u001b[0m\u001b[0m\n\u001b[1;32m      2\u001b[0m \u001b[0mcollection\u001b[0m \u001b[0;34m=\u001b[0m \u001b[0mee\u001b[0m\u001b[0;34m.\u001b[0m\u001b[0mImageCollection\u001b[0m\u001b[0;34m(\u001b[0m\u001b[0;34m'MODIS/006/MOD44B'\u001b[0m\u001b[0;34m)\u001b[0m\u001b[0;34m.\u001b[0m\u001b[0mfilterBounds\u001b[0m\u001b[0;34m(\u001b[0m\u001b[0mzoomed_out\u001b[0m\u001b[0;34m)\u001b[0m\u001b[0;34m\u001b[0m\u001b[0;34m\u001b[0m\u001b[0m\n\u001b[0;32m----> 3\u001b[0;31m \u001b[0mptc\u001b[0m\u001b[0;34m=\u001b[0m\u001b[0mcollection\u001b[0m\u001b[0;34m.\u001b[0m\u001b[0mopen\u001b[0m\u001b[0;34m(\u001b[0m\u001b[0;34m\"Percent_Tree_cover\"\u001b[0m\u001b[0;34m)\u001b[0m\u001b[0;34m\u001b[0m\u001b[0;34m\u001b[0m\u001b[0m\n\u001b[0m",
            "\u001b[0;31mAttributeError\u001b[0m: 'ImageCollection' object has no attribute 'open'"
          ]
        }
      ]
    },
    {
      "cell_type": "markdown",
      "metadata": {
        "id": "O2f3FcdKd3Np"
      },
      "source": [
        "Actual Code to work with"
      ]
    },
    {
      "cell_type": "code",
      "metadata": {
        "id": "f3lDHlOV4QE2",
        "outputId": "0633b7b0-5a95-47d5-fffd-32275b917d4b",
        "colab": {
          "base_uri": "https://localhost:8080/",
          "height": 277
        }
      },
      "source": [
        "%matplotlib inline\n",
        "from IPython.display import Image\n",
        "import ee, datetime\n",
        "import pandas as pd\n",
        "from pylab import *\n",
        "from matplotlib.pylab import rcParams\n",
        "\n",
        "# List of used image bands\n",
        "band_list = ['Percent_Tree_Cover', 'Percent_NonTree_Vegetation', 'Percent_NonVegetated']\n",
        "\n",
        "collection = ee.ImageCollection('MODIS/006/MOD44B').select(band_list)#.filterBounds(point)#.filterBounds(zoomed_out).filterDate('2000-01-01', '2019-12-31').sort('system:time_start', False)\n",
        "\n",
        "count = collection.size()\n",
        "#print('Number of images in collection: ', str(count.getInfo())+'\\n')\n",
        "\n",
        "#Define individual ROIs for Haiti and DR \n",
        "Haiti_roi = ee.FeatureCollection('USDOS/LSIB_SIMPLE/2017').filter(ee.Filter.eq('country_na', 'Haiti'))\n",
        "DR_roi = ee.FeatureCollection('USDOS/LSIB_SIMPLE/2017').filter(ee.Filter.eq('country_na', 'Dominican Republic'))\n",
        "\n",
        "\n",
        "\n",
        "# Get info from the point\n",
        "info = collection.getRegion(geometry=DR_roi, scale=10000).getInfo()    #.filterBounds(zoomed_out).getInfo() # change colelction by series\n",
        "\n",
        "#print(info)\n",
        "\n",
        "# Reshape image collection \n",
        "# Spearate header from data, and store data in an array\n",
        "header = info[0]\n",
        "data = array(info[1:])\n",
        "\n",
        "# Extract time from data\n",
        "iTime = header.index('time')\n",
        "time = [datetime.datetime.fromtimestamp(i/1000) for i in (data[0:,iTime].astype(int))]\n",
        "\n",
        "iBands = [header.index(b) for b in band_list]\n",
        "yData = data[0:,iBands].astype(np.float)\n",
        "print(yData.shape) #tells us there are 10080 rows and 3 columns (tree, non-tree-veg, non-veg)\n",
        "\n",
        "'''THIS WAS WHERE THE ISSUE WAS - you had just extracted the yData from a single column \n",
        "into the variable 'trees' that you then used as the input to all of the subsequent pandas dataframe, \n",
        "so it was simply entering the same data (for trees only) to your dataframes for all three categories '''\n",
        "trees = yData[:,0]+ yData[:,1] #tree cover\n",
        "non_tree_veg = yData[:,1] #non-tree veg\n",
        "non_veg = yData[:,2] #non-veg\n",
        "\n",
        "# Reshape tree array into Pandas Dataframe\n",
        "dfTC = pd.DataFrame(data=trees, columns=['Veg Cover (%)'])\n",
        "dfTC['time'] = pd.Series(time, index=dfTC.index)\n",
        "\n",
        "# get mean value for every year\n",
        "groupTC =dfTC.groupby(['time']).mean()\n",
        "print(groupTC.head())\n",
        "\n",
        "\n",
        "# Do same for non-tree vegetation\n",
        "#dfNT = pd.DataFrame(data=non_tree_veg, columns=['Non-Tree Vegetation (%)'])\n",
        "#dfNT['time'] = pd.Series(time, index=dfNT.index)\n",
        "#groupNT =dfNT.groupby(['time']).mean()\n",
        "#print(groupNT.head())\n",
        "\n",
        "# Do same for non-vegetated\n",
        "dfNV = pd.DataFrame(data=non_veg, columns=['Non-Vegetated (%)'])\n",
        "dfNV['time'] = pd.Series(time, index=dfNV.index)\n",
        "groupNV =dfNV.groupby(['time']).mean()\n",
        "print(groupNV.head())\n",
        "\n",
        "\n",
        "\n",
        "#print(df['time'])\n",
        "#print(groupTC['Percent_Tree_Cover'])"
      ],
      "execution_count": 16,
      "outputs": [
        {
          "output_type": "stream",
          "text": [
            "(10260, 3)\n",
            "            Veg Cover (%)\n",
            "time                     \n",
            "2000-03-05      87.684211\n",
            "2001-03-06      85.631579\n",
            "2002-03-06      88.081871\n",
            "2003-03-06      88.561404\n",
            "2004-03-05      87.189084\n",
            "            Non-Vegetated (%)\n",
            "time                         \n",
            "2000-03-05          14.070175\n",
            "2001-03-06          16.099415\n",
            "2002-03-06          13.672515\n",
            "2003-03-06          13.169591\n",
            "2004-03-05          14.600390\n"
          ],
          "name": "stdout"
        }
      ]
    },
    {
      "cell_type": "code",
      "metadata": {
        "id": "kpbioGWO75PU",
        "outputId": "8d16a53f-318a-4222-a76f-5de875cb387c",
        "colab": {
          "base_uri": "https://localhost:8080/",
          "height": 371
        }
      },
      "source": [
        "# Plotting\n",
        "\n",
        "rcParams['figure.figsize'] = 15, 6\n",
        "ax = groupTC.plot()\n",
        "ax.set_ylim([0, 100])\n",
        "\n",
        "#groupNT.plot(ax=ax)\n",
        "groupNV.plot(ax=ax)\n",
        "plt.show()\n"
      ],
      "execution_count": 21,
      "outputs": [
        {
          "output_type": "display_data",
          "data": {
            "image/png": "[encoded data removed]",
            "text/plain": [
              "<Figure size 1080x432 with 1 Axes>"
            ]
          },
          "metadata": {
            "tags": [],
            "needs_background": "light"
          }
        }
      ]
    },
    {
      "cell_type": "markdown",
      "metadata": {
        "id": "92eoGkJqeW5V"
      },
      "source": [
        "# Eszter's Code"
      ]
    }
  ]
}